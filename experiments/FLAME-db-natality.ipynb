{
 "cells": [
  {
   "cell_type": "code",
   "execution_count": 1,
   "metadata": {
    "collapsed": true
   },
   "outputs": [],
   "source": [
    "import numpy as np\n",
    "import pandas as pd\n",
    "import pyodbc\n",
    "import time\n",
    "import pickle\n",
    "import operator\n",
    "from operator import itemgetter\n",
    "from joblib import Parallel, delayed\n",
    "\n",
    "from sklearn import linear_model\n",
    "\n",
    "from sklearn.linear_model import Ridge\n",
    "from sklearn.tree import DecisionTreeRegressor\n",
    "from sklearn.model_selection import cross_val_score\n",
    "\n",
    "from sqlalchemy import create_engine\n",
    "\n",
    "import matplotlib.pyplot as plt\n",
    "%matplotlib inline"
   ]
  },
  {
   "cell_type": "markdown",
   "metadata": {},
   "source": [
    "Before everything, please download a preprocessed version of the natality data from https://www.dropbox.com/s/395rrh0c826gw9r/Natality_small.csv?dl=0"
   ]
  },
  {
   "cell_type": "code",
   "execution_count": 2,
   "metadata": {
    "collapsed": true
   },
   "outputs": [],
   "source": [
    "conn = pyodbc.connect(\"Driver={SQL Server Native Client 11.0};\"\n",
    "                        \"Server=localhost;\"\n",
    "                        \"Database=master;\"\n",
    "                        \"Trusted_Connection=yes;\")\n",
    "\n",
    "cur = conn.cursor()\n",
    "\n",
    "engine = create_engine('mssql+pyodbc://localhost/master?driver=SQL+Server+Native+Client+11.0')"
   ]
  },
  {
   "cell_type": "code",
   "execution_count": 3,
   "metadata": {
    "collapsed": true
   },
   "outputs": [],
   "source": [
    "def construct_sec_order(arr):\n",
    "    # data generation function helper.\n",
    "    \n",
    "    second_order_feature = []\n",
    "    num_cov_sec = len(arr[0])\n",
    "    for a in arr:\n",
    "        tmp = []\n",
    "        for i in range(num_cov_sec):\n",
    "            for j in range(i+1, num_cov_sec):\n",
    "                tmp.append( a[i] * a[j] )\n",
    "        second_order_feature.append(tmp)\n",
    "        \n",
    "    return np.array(second_order_feature)\n",
    "\n",
    "def data_generation_dense_2(num_control, num_treated, num_cov_dense, num_covs_unimportant, \n",
    "                            control_m = 0.1, treated_m = 0.9):\n",
    "    # the data generation function that I'll use.\n",
    "    xc = np.random.binomial(1, 0.5, size=(num_control, num_cov_dense))   # data for conum_treatedrol group\n",
    "    xt = np.random.binomial(1, 0.5, size=(num_treated, num_cov_dense))   # data for treatmenum_treated group\n",
    "        \n",
    "    errors1 = np.random.normal(0, 0.05, size=num_control)    # some noise\n",
    "    errors2 = np.random.normal(0, 0.05, size=num_treated)    # some noise\n",
    "    \n",
    "    dense_bs_sign = np.random.choice([-1,1], num_cov_dense)\n",
    "    #dense_bs = [ np.random.normal(dense_bs_sign[i]* (i+2), 1) for i in range(len(dense_bs_sign)) ]\n",
    "    dense_bs = [ np.random.normal(s * 10, 1) for s in dense_bs_sign ]\n",
    "\n",
    "    yc = np.dot(xc, np.array(dense_bs)) + errors1     # y for conum_treatedrol group \n",
    "    \n",
    "    treatment_eff_coef = np.random.normal( 1.5, 0.15, size=num_cov_dense)\n",
    "    treatment_effect = np.dot(xt, treatment_eff_coef) \n",
    "    \n",
    "    second = construct_sec_order(xt[:,:5])\n",
    "    treatment_eff_sec = np.sum(second, axis=1)\n",
    "    \n",
    "    yt = np.dot(xt, np.array(dense_bs)) + treatment_effect + treatment_eff_sec + errors2    # y for treated group \n",
    "\n",
    "    xc2 = np.random.binomial(1, control_m, size=(num_control, num_covs_unimportant))   #\n",
    "    xt2 = np.random.binomial(1, treated_m, size=(num_treated, num_covs_unimportant))   #\n",
    "        \n",
    "    df1 = pd.DataFrame(np.hstack([xc, xc2]), \n",
    "                       columns=['{0}'.format(i) for i in range(num_cov_dense + num_covs_unimportant)])\n",
    "    df1['outcome'] = yc\n",
    "    df1['treated'] = 0\n",
    "\n",
    "    df2 = pd.DataFrame(np.hstack([xt, xt2]), \n",
    "                       columns=['{0}'.format(i) for i in range(num_cov_dense + num_covs_unimportant )] ) \n",
    "    df2['outcome'] = yt\n",
    "    df2['treated'] = 1\n",
    "\n",
    "    df = pd.concat([df1,df2])\n",
    "    df['matched'] = 0\n",
    "  \n",
    "    return df, dense_bs, treatment_eff_coef"
   ]
  },
  {
   "cell_type": "code",
   "execution_count": 4,
   "metadata": {
    "collapsed": true
   },
   "outputs": [],
   "source": [
    "# this function takes the current covariate list, the covariate we consider dropping, name of the data table, \n",
    "# name of the holdout table, the threshold (below which we consider as no match), and balancing regularization\n",
    "# as input; and outputs the matching quality\n",
    "def score_tentative_drop_c(cov_l, c, db_name, holdout_df, thres = 0, tradeoff = 0.1):\n",
    "    \n",
    "    covs_to_match_on = set(cov_l) - {c} # the covariates to match on\n",
    "    \n",
    "    # the flowing query fetches the matched results (the variates, the outcome, the treatment indicator)\n",
    "    s = time.time()\n",
    "    ##cur.execute('''with temp AS \n",
    "    ##    (SELECT \n",
    "    ##    {0}\n",
    "    ##    FROM {3}\n",
    "    ##    where \"matched\"=0\n",
    "    ##    group by {0}\n",
    "    ##    Having sum(\"treated\")>'0' and sum(\"treated\")<count(*) \n",
    "    ##    )\n",
    "    ##    (SELECT {1}, {3}.\"treated\", {3}.\"outcome\"\n",
    "    ##    FROM temp, {3}\n",
    "    ##    WHERE {2}\n",
    "    ##    )\n",
    "    ##    '''.format(','.join(['\"C{0}\"'.format(v) for v in covs_to_match_on ]),\n",
    "    ##               ','.join(['{1}.\"C{0}\"'.format(v, db_name) for v in covs_to_match_on ]),\n",
    "    ##               ' AND '.join([ '{1}.\"C{0}\"=temp.\"C{0}\"'.format(v, db_name) for v in covs_to_match_on ]),\n",
    "    ##               db_name\n",
    "    ##              ) )\n",
    "    ##res = np.array(cur.fetchall())\n",
    "    \n",
    "    cur.execute('''with temp AS \n",
    "        (SELECT \n",
    "        {0}\n",
    "        FROM {3}\n",
    "        where \"matched\"=0\n",
    "        group by {0}\n",
    "        Having sum(\"treated\")>'0' and sum(\"treated\")<count(*) \n",
    "        )\n",
    "        (SELECT {1}, treated, outcome\n",
    "        FROM {3}\n",
    "        WHERE EXISTS \n",
    "        (SELECT 1\n",
    "        FROM temp \n",
    "        WHERE {2}\n",
    "        )\n",
    "        )\n",
    "        '''.format(','.join(['\"{0}\"'.format(v) for v in covs_to_match_on ]),\n",
    "                   ','.join(['{1}.\"{0}\"'.format(v, db_name) for v in covs_to_match_on ]),\n",
    "                   ' AND '.join([ '{1}.\"{0}\"=temp.\"{0}\"'.format(v, db_name) for v in covs_to_match_on ]),\n",
    "                   db_name\n",
    "                  ) )\n",
    "    res = np.array(cur.fetchall())\n",
    "    \n",
    "    time_match = time.time() - s\n",
    "    \n",
    "    s = time.time()\n",
    "    # the number of unmatched treated units\n",
    "    cur.execute('''select count(*) from {} where \"matched\" = 0 and \"treated\" = 0'''.format(db_name))\n",
    "    num_control = cur.fetchall()\n",
    "    # the number of unmatched control units\n",
    "    cur.execute('''select count(*) from {} where \"matched\" = 0 and \"treated\" = 1'''.format(db_name))\n",
    "    num_treated = cur.fetchall()\n",
    "    time_BF = time.time() - s\n",
    "    \n",
    "    # fetch from database the holdout set\n",
    "    \n",
    "    ##s = time.time()\n",
    "    ##cur.execute('''select {0}, \"treated\", \"outcome\" \n",
    "    ##               from {1}\n",
    "    ##            '''.format( ','.join( ['\"C{0}\"'.format(v) for v in covs_to_match_on ] ) , holdout))\n",
    "    ##holdout = np.array(cur.fetchall())\n",
    "    \n",
    "    s = time.time() # the time for fetching data into memory is not counted if use this\n",
    "    \n",
    "    # below is the regression part for PE\n",
    "    #ridge_c = Ridge(alpha=0.1)\n",
    "    #ridge_t = Ridge(alpha=0.1)\n",
    "    tree_c = DecisionTreeRegressor(max_depth=8, random_state=0)\n",
    "    tree_t = DecisionTreeRegressor(max_depth=8, random_state=0)\n",
    "    \n",
    "    holdout = holdout_df.copy()\n",
    "    holdout = holdout[ list(covs_to_match_on) + ['treated', 'outcome']]\n",
    "        \n",
    "    mse_t = np.mean(cross_val_score(tree_t, holdout[holdout['treated'] == 1].iloc[:,:-2], \n",
    "                                holdout[holdout['treated'] == 1]['outcome'] , scoring = 'neg_mean_squared_error' ) )\n",
    "        \n",
    "    mse_c = np.mean(cross_val_score(tree_c, holdout[holdout['treated'] == 0].iloc[:,:-2], \n",
    "                                holdout[holdout['treated'] == 0]['outcome'], scoring = 'neg_mean_squared_error' ) )\n",
    "    \n",
    "    #mse_t = np.mean(cross_val_score(ridge_t, holdout[holdout['treated'] == 1].iloc[:,:-2], \n",
    "    #                            holdout[holdout['treated'] == 1]['outcome'] , scoring = 'neg_mean_squared_error' ) )\n",
    "        \n",
    "    #mse_c = np.mean(cross_val_score(ridge_c, holdout[holdout['treated'] == 0].iloc[:,:-2], \n",
    "    #                            holdout[holdout['treated'] == 0]['outcome'], scoring = 'neg_mean_squared_error' ) )\n",
    "    # above is the regression part for BF\n",
    "    \n",
    "    time_PE = time.time() - s\n",
    "    \n",
    "    if len(res) == 0:\n",
    "        return (( mse_t + mse_c ), time_match, time_PE, time_BF)\n",
    "        ##return mse_t + mse_c\n",
    "    else:        \n",
    "        return (tradeoff * (float(len(res[res[:,-2]==0]))/num_control[0][0] + float(len(res[res[:,-2]==1]))/num_treated[0][0]) +\\\n",
    "             ( mse_t + mse_c ), time_match, time_PE, time_BF)\n",
    "        ##return reg_param * (float(len(res[res[:,-2]==0]))/num_control[0][0] + float(len(res[res[:,-2]==1]))/num_treated[0][0]) +\\\n",
    "        ##         ( mse_t + mse_c )"
   ]
  },
  {
   "cell_type": "code",
   "execution_count": 5,
   "metadata": {
    "collapsed": true
   },
   "outputs": [],
   "source": [
    "# update matched units\n",
    "# this function takes the currcent set of covariates and the name of the database; and update the \"matched\"\n",
    "# column of the newly mathced units to be \"1\"\n",
    "\n",
    "def update_matched(covs_matched_on, db_name, level):\n",
    "    \n",
    "    cur.execute('''with temp AS \n",
    "        (SELECT \n",
    "        {0}\n",
    "        FROM {3}\n",
    "        where \"matched\"=0\n",
    "        group by {0}\n",
    "        Having sum(\"treated\")>'0' and sum(\"treated\")<count(*) \n",
    "        )\n",
    "        update {3} set \"matched\"={4}\n",
    "        WHERE EXISTS\n",
    "        (SELECT {0}\n",
    "        FROM temp\n",
    "        WHERE {2} and {3}.\"matched\" = 0\n",
    "        )\n",
    "        '''.format(','.join(['\"{0}\"'.format(v) for v in covs_matched_on]),\n",
    "                   ','.join(['{1}.\"{0}\"'.format(v, db_name) for v in covs_matched_on]),\n",
    "                   ' AND '.join([ '{1}.\"{0}\"=temp.\"{0}\"'.format(v, db_name) for v in covs_matched_on ]),\n",
    "                   db_name,\n",
    "                   level\n",
    "                  ) )\n",
    "    conn.commit()\n",
    "    \n",
    "    return"
   ]
  },
  {
   "cell_type": "code",
   "execution_count": 6,
   "metadata": {
    "collapsed": true
   },
   "outputs": [],
   "source": [
    "# get CATEs \n",
    "# this function takes a list of covariates and the name of the data table as input and outputs a dataframe \n",
    "# containing the combination of covariate values and the corresponding CATE \n",
    "# and the corresponding effect (and the count and variance) as values\n",
    "\n",
    "def get_CATE(cov_l, db_name, level):\n",
    "\n",
    "    cur.execute(''' select {0}, avg(outcome * 1.0), count(*)\n",
    "                    from {1}\n",
    "                    where matched = {2} and treated = 0\n",
    "                    group by {0}\n",
    "                    '''.format(','.join(['\"{0}\"'.format(v) for v in cov_l]), \n",
    "                              db_name, level) )\n",
    "    res_c = cur.fetchall()\n",
    "    \n",
    "    cur.execute(''' select {0}, avg(outcome * 1.0), count(*)\n",
    "                    from {1}\n",
    "                    where matched = {2} and treated = 1\n",
    "                    group by {0}\n",
    "                    '''.format(','.join(['\"{0}\"'.format(v) for v in cov_l]), \n",
    "                              db_name, level) )\n",
    "    res_t = cur.fetchall()\n",
    "            \n",
    "    if (len(res_c) == 0) | (len(res_t) == 0):\n",
    "        return None\n",
    "    \n",
    "    cov_l = list(cov_l)\n",
    "    \n",
    "    result = pd.merge(pd.DataFrame(np.array(res_c), columns=['{}'.format(i) for i in cov_l]+['effect_c', 'count_c']), \n",
    "                  pd.DataFrame(np.array(res_t), columns=['{}'.format(i) for i in cov_l]+['effect_t', 'count_t']), \n",
    "                  on = ['{}'.format(i) for i in cov_l], how = 'inner') \n",
    "    \n",
    "    result_df = result[['{}'.format(i) for i in cov_l] + ['effect_c', 'effect_t', 'count_c', 'count_t']]\n",
    "        \n",
    "    # -- the following section are moved to after getting the result\n",
    "    #d = {}\n",
    "    #for i, row in result.iterrows():\n",
    "    #    k = ()\n",
    "    #    for j in range(len(cov_l)):\n",
    "    #        k = k + ((cov_l[j], row[j]),)\n",
    "    #    d[k] = (row['effect_c'], row['effect_t'], row['std_t'], row['std_c'], row['count_c'], row['count_t'])\n",
    "    # -- the above section are moved to after getting the result\n",
    "    \n",
    "    return result_df"
   ]
  },
  {
   "cell_type": "code",
   "execution_count": 7,
   "metadata": {
    "collapsed": true
   },
   "outputs": [],
   "source": [
    "def run(db_name, holdout_df, num_covs, reg_param = 0.1):\n",
    "\n",
    "    cur.execute('update {0} set matched = 0'.format(db_name)) # reset the matched indicator to 0\n",
    "    conn.commit()\n",
    "\n",
    "    covs_dropped = [] # covariate dropped\n",
    "    ds = []\n",
    "    \n",
    "    level = 1\n",
    "\n",
    "    timings = [0]*5 # first entry - match (groupby and join), \n",
    "                    # second entry - regression (compute PE), \n",
    "                    # third entry - compute BF, \n",
    "                    # fourth entry - keep track of CATE, \n",
    "                    # fifth entry - update database table (mark matched units). \n",
    "    \n",
    "    cur_covs = range(num_covs) # initialize the current covariates to be all covariates\n",
    "        \n",
    "    # make predictions and save to disk\n",
    "    s = time.time()\n",
    "    update_matched(cur_covs, db_name, level) # match without dropping anything\n",
    "    timings[4] = timings[4] + time.time() - s\n",
    "        \n",
    "    s = time.time()\n",
    "    d = get_CATE(cur_covs, db_name, level) # get CATE without dropping anything\n",
    "    timings[3] = timings[3] + time.time() - s\n",
    "    \n",
    "    ds.append(d)\n",
    "    \n",
    "    ##s = time.time()\n",
    "    ##cur.execute('''update {} set \"matched\"=2 WHERE \"matched\"=1 '''.format(db_name)) # mark the matched units as matched and \n",
    "                                                                                    #they are no langer seen by the algorithm\n",
    "    ##conn.commit()\n",
    "    ##timings[4] = timings[4] + time.time() - s\n",
    "    \n",
    "    while len(cur_covs)>1:\n",
    "        \n",
    "        print(cur_covs) # print current set of covariates\n",
    "        \n",
    "        level += 1\n",
    "        \n",
    "        # the early stopping conditions\n",
    "        cur.execute('''select count(*) from {} where \"matched\"=0 and \"treated\"=0'''.format(db_name))\n",
    "        if cur.fetchall()[0][0] == 0:\n",
    "            break\n",
    "        cur.execute('''select count(*) from {} where \"matched\"=0 and \"treated\"=1'''.format(db_name))\n",
    "        if cur.fetchall()[0][0] == 0:\n",
    "            break\n",
    "        \n",
    "        best_score = -np.inf\n",
    "        cov_to_drop = None\n",
    "        \n",
    "        cur_covs = list(cur_covs)\n",
    "        for c in cur_covs:\n",
    "            \n",
    "            score,time_match,time_PE,time_BF = score_tentative_drop_c(cur_covs, c, db_name, \n",
    "                                                                      holdout_df, tradeoff = 0.1)\n",
    "            \n",
    "            timings[0] = timings[0] + time_match\n",
    "            timings[1] = timings[1] + time_PE\n",
    "            timings[2] = timings[2] + time_BF\n",
    "            if score > best_score:\n",
    "                best_score = score\n",
    "                cov_to_drop = c\n",
    "\n",
    "        cur_covs = set(cur_covs) - {cov_to_drop} # remove the dropped covariate from the current covariate set\n",
    "        \n",
    "        s = time.time()\n",
    "        update_matched(cur_covs, db_name, level)\n",
    "        timings[4] = timings[4] + time.time() - s\n",
    "        \n",
    "        s = time.time()\n",
    "        d = get_CATE(cur_covs, db_name, level)\n",
    "        timings[3] = timings[3] + time.time() - s\n",
    "        \n",
    "        ds.append(d)\n",
    "        \n",
    "        ##s = time.time()\n",
    "        ##cur.execute('''update {} set \"matched\"=2 WHERE \"matched\"=1 '''.format(db_name))\n",
    "        ##conn.commit()\n",
    "        ##timings[4] = timings[4] + time.time() - s\n",
    "        \n",
    "        covs_dropped.append(cov_to_drop) # append the removed covariate at the end of the covariate\n",
    "        \n",
    "    return timings, ds"
   ]
  },
  {
   "cell_type": "markdown",
   "metadata": {},
   "source": [
    "PGARScore as outcome"
   ]
  },
  {
   "cell_type": "code",
   "execution_count": 69,
   "metadata": {
    "collapsed": true
   },
   "outputs": [],
   "source": [
    "df = pd.read_csv('Natality_small.csv')\n",
    "\n",
    "df = df[df['ABAssistedVentilation'] != 'U']\n",
    "\n",
    "df = df[df['ABAssistedVentilationMoreThan6Hrs'] != 'U']\n",
    "\n",
    "df = df[df['ABAdmissionToNICU'] != 'U']\n",
    "\n",
    "df = df[df['ABSurfactant'] != 'U']\n",
    "\n",
    "df = df[df['ABAntibiotics'] != 'U']\n",
    "\n",
    "df = df[df['ABSeizures'] != 'U']\n",
    "\n",
    "df = df.drop(columns=['FiveMinuteAPGARScoreRecode', 'DeliveryMethodRecodeRevised'])"
   ]
  },
  {
   "cell_type": "code",
   "execution_count": 72,
   "metadata": {
    "collapsed": true
   },
   "outputs": [],
   "source": [
    "df['outcome'] = df['FiveMinAPGARScore']\n",
    "df = df[df['outcome'] != 99]"
   ]
  },
  {
   "cell_type": "code",
   "execution_count": 74,
   "metadata": {
    "collapsed": true
   },
   "outputs": [],
   "source": [
    "df = df.drop(columns=['FiveMinAPGARScore'])"
   ]
  },
  {
   "cell_type": "code",
   "execution_count": 75,
   "metadata": {
    "collapsed": true
   },
   "outputs": [],
   "source": [
    "df.loc[df['CigaretteRecode'] == 'Y', 'CigaretteRecode'] = 1\n",
    "df.loc[df['CigaretteRecode'] == 'N', 'CigaretteRecode'] = 0\n",
    "\n",
    "df['matched'] = 0\n",
    "\n",
    "cols = [c for c in df.columns if c.lower()[:4] != 'flag']\n",
    "\n",
    "df = df[cols]"
   ]
  },
  {
   "cell_type": "code",
   "execution_count": 76,
   "metadata": {},
   "outputs": [
    {
     "name": "stdout",
     "output_type": "stream",
     "text": [
      "RFPrepregnancyDiabetes ['N', 'U', 'Y']\n",
      "RFGestationalDiabetes ['N', 'U', 'Y']\n",
      "RFPrepregnancyHypertension ['N', 'U', 'Y']\n",
      "RFGestationalHypertension ['N', 'U', 'Y']\n",
      "RFEclampsia ['N', 'U', 'Y']\n",
      "RFPreviousPretermBirth ['N', 'U', 'Y']\n",
      "RFPoorPregnancyOutcome ['N', 'U', 'Y']\n",
      "PreviousCesareanDeliveries ['N', 'U', 'Y']\n",
      "OPCervicalCerclage ['N', 'U', 'Y']\n",
      "OPTocolysis ['N', 'U', 'Y']\n",
      "OPSuccessfulExternalCephalicVersion ['N', 'U', 'Y']\n",
      "FailedExternalCephalicVersion ['N', 'U', 'Y']\n",
      "ONPrematureMembraneRapture ['N', 'U', 'Y']\n",
      "ONPrecipitousLabor ['N', 'U', 'Y']\n",
      "ONProlongedLabor ['N', 'U', 'Y']\n",
      "LDInductionOfLabor ['N', 'U', 'Y']\n",
      "LDAugmentationOfLabor ['N', 'U', 'Y']\n",
      "LDLDNonVertexPresentation ['N', 'U', 'Y']\n",
      "LDSteroids ['N', 'U', 'Y']\n",
      "LDAntibiotics ['N', 'U', 'Y']\n",
      "LDChorioamnionitis ['N', 'U', 'Y']\n",
      "LDMeconiumStaining ['N', 'U', 'Y']\n",
      "LDFetalIntolerance ['N', 'U', 'Y']\n",
      "LDAnesthesia ['N', 'U', 'Y']\n",
      "MEAttemptedForceps ['N', 'U', 'Y']\n",
      "MEAttemptedVacuum ['N', 'U', 'Y']\n",
      "METrialOfLaborAttempted ['N', 'U', 'X', 'Y']\n",
      "InfantSex ['F', 'M']\n",
      "ABAssistedVentilation ['N', 'Y']\n",
      "ABAssistedVentilationMoreThan6Hrs ['N', 'Y']\n",
      "ABAdmissionToNICU ['N', 'Y']\n",
      "ABSurfactant ['N', 'Y']\n",
      "ABAntibiotics ['N', 'Y']\n",
      "ABSeizures ['N', 'Y']\n",
      "ABBirthInjury ['N', 'Y']\n",
      "CAAnencephaly ['N', 'U', 'Y']\n",
      "CAMeningomyeloceleSpinaBifida ['N', 'U', 'Y']\n",
      "CACyanoticCongenitalHeartDisease ['N', 'U', 'Y']\n",
      "CACongenitalDiaphragmaticHernia ['N', 'U', 'Y']\n",
      "CAOmphalocele ['N', 'U', 'Y']\n",
      "CAGastroschisis ['N', 'U', 'Y']\n",
      "CALimbReductionDefect ['N', 'U', 'Y']\n",
      "CACleftLipWWOPalate ['N', 'U', 'Y']\n",
      "CACleftPalateAlone ['N', 'U', 'Y']\n",
      "CADownSyndrome ['C', 'N', 'P', 'U']\n",
      "CASuspectedChromosomalDisorder ['C', 'N', 'P', 'U']\n",
      "CAHypospadias ['N', 'U', 'Y']\n"
     ]
    }
   ],
   "source": [
    "char_col = []\n",
    "for c in df.columns:    \n",
    "    if df[c].dtype != np.int64:\n",
    "        char_col.append(c)\n",
    "        \n",
    "for c in char_col:\n",
    "    df[c] = df[c].astype(str)\n",
    "    l = sorted(list(np.unique(df[c])))\n",
    "    print c, l\n",
    "    for i in range(len(l)):\n",
    "        df.loc[df[c] == l[i], c] = i"
   ]
  },
  {
   "cell_type": "code",
   "execution_count": 77,
   "metadata": {
    "collapsed": true
   },
   "outputs": [],
   "source": [
    "rename_dict = dict()\n",
    "\n",
    "cols = list(df.columns)\n",
    "\n",
    "cols.remove('matched')\n",
    "cols.remove('outcome')\n",
    "cols.remove('CigaretteRecode')\n",
    "\n",
    "for i in range(len(cols)):\n",
    "    rename_dict[i] = cols[i]\n",
    "    \n",
    "rename_dict['treated'] = 'CigaretteRecode'"
   ]
  },
  {
   "cell_type": "code",
   "execution_count": 78,
   "metadata": {
    "collapsed": true
   },
   "outputs": [],
   "source": [
    "inv_rename_dict = {v:k for k,v in rename_dict.iteritems()}\n",
    "\n",
    "import pickle\n",
    "\n",
    "pickle.dump(rename_dict, open('natality_rename_dict_score', 'wb'))\n",
    "\n",
    "df.rename(columns = inv_rename_dict, inplace = True)\n",
    "\n",
    "from sklearn.model_selection import train_test_split\n",
    "\n",
    "df, holdout = train_test_split(df, test_size = 0.1, random_state = 345)\n",
    "\n",
    "df.to_csv('Natality_db_score.csv', index = False)\n",
    "holdout.to_csv('Natality_holdout_score.csv', index = False)\n",
    "#holdout = pd.read_csv('Natality_holdout.csv')\n",
    "df.to_sql('natality_score', engine, chunksize=100)\n",
    "\n",
    "del df"
   ]
  },
  {
   "cell_type": "code",
   "execution_count": 8,
   "metadata": {
    "scrolled": false
   },
   "outputs": [
    {
     "name": "stdout",
     "output_type": "stream",
     "text": [
      "[0, 1, 2, 3, 4, 5, 6, 7, 8, 9, 10, 11, 12, 13, 14, 15, 16, 17, 18, 19, 20, 21, 22, 23, 24, 25, 26, 27, 28, 29, 30, 31, 32, 33, 34, 35, 36, 37, 38, 39, 40, 41, 42, 43, 44, 45, 46, 47, 48, 49, 50, 51, 52, 53, 54, 55, 56, 57, 58, 59, 60, 61, 62, 63, 64, 65, 66, 67, 68, 69, 70, 71, 72, 73, 74, 75, 76, 77, 78, 79, 80, 81, 82, 83, 84, 85, 86, 87, 88, 89, 90]\n",
      "set([0, 1, 2, 3, 4, 5, 6, 7, 8, 9, 10, 11, 12, 13, 14, 15, 16, 17, 18, 19, 20, 21, 22, 23, 24, 25, 26, 27, 28, 29, 30, 31, 32, 33, 34, 35, 36, 37, 38, 39, 40, 41, 42, 43, 44, 45, 46, 47, 48, 49, 50, 51, 52, 53, 54, 55, 56, 57, 58, 59, 60, 61, 63, 64, 65, 66, 67, 68, 69, 70, 71, 72, 73, 74, 75, 76, 77, 78, 79, 80, 81, 82, 83, 84, 85, 86, 87, 88, 89, 90])\n",
      "set([0, 1, 2, 3, 4, 5, 6, 7, 8, 9, 10, 11, 12, 13, 14, 16, 17, 18, 19, 20, 21, 22, 23, 24, 25, 26, 27, 28, 29, 30, 31, 32, 33, 34, 35, 36, 37, 38, 39, 40, 41, 42, 43, 44, 45, 46, 47, 48, 49, 50, 51, 52, 53, 54, 55, 56, 57, 58, 59, 60, 61, 63, 64, 65, 66, 67, 68, 69, 70, 71, 72, 73, 74, 75, 76, 77, 78, 79, 80, 81, 82, 83, 84, 85, 86, 87, 88, 89, 90])\n",
      "set([0, 1, 2, 3, 4, 5, 6, 7, 8, 9, 10, 11, 12, 13, 16, 17, 18, 19, 20, 21, 22, 23, 24, 25, 26, 27, 28, 29, 30, 31, 32, 33, 34, 35, 36, 37, 38, 39, 40, 41, 42, 43, 44, 45, 46, 47, 48, 49, 50, 51, 52, 53, 54, 55, 56, 57, 58, 59, 60, 61, 63, 64, 65, 66, 67, 68, 69, 70, 71, 72, 73, 74, 75, 76, 77, 78, 79, 80, 81, 82, 83, 84, 85, 86, 87, 88, 89, 90])\n",
      "set([0, 1, 2, 3, 4, 5, 6, 7, 8, 9, 10, 11, 12, 13, 16, 17, 18, 19, 20, 21, 23, 24, 25, 26, 27, 28, 29, 30, 31, 32, 33, 34, 35, 36, 37, 38, 39, 40, 41, 42, 43, 44, 45, 46, 47, 48, 49, 50, 51, 52, 53, 54, 55, 56, 57, 58, 59, 60, 61, 63, 64, 65, 66, 67, 68, 69, 70, 71, 72, 73, 74, 75, 76, 77, 78, 79, 80, 81, 82, 83, 84, 85, 86, 87, 88, 89, 90])\n",
      "set([0, 1, 2, 3, 4, 5, 6, 7, 8, 9, 10, 11, 12, 13, 16, 17, 18, 19, 20, 21, 23, 24, 25, 26, 27, 28, 29, 30, 31, 32, 33, 34, 35, 36, 37, 38, 39, 40, 41, 42, 43, 44, 45, 46, 47, 48, 49, 50, 51, 52, 53, 54, 55, 56, 57, 58, 59, 60, 61, 63, 64, 65, 66, 67, 68, 69, 70, 71, 73, 74, 75, 76, 77, 78, 79, 80, 81, 82, 83, 84, 85, 86, 87, 88, 89, 90])\n",
      "set([0, 1, 2, 3, 4, 5, 6, 7, 8, 9, 10, 11, 12, 13, 16, 17, 18, 19, 20, 21, 23, 24, 25, 26, 27, 28, 29, 30, 31, 32, 33, 34, 35, 36, 37, 38, 39, 40, 41, 42, 43, 44, 45, 47, 48, 49, 50, 51, 52, 53, 54, 55, 56, 57, 58, 59, 60, 61, 63, 64, 65, 66, 67, 68, 69, 70, 71, 73, 74, 75, 76, 77, 78, 79, 80, 81, 82, 83, 84, 85, 86, 87, 88, 89, 90])\n",
      "set([0, 1, 2, 3, 4, 5, 6, 7, 8, 9, 10, 11, 12, 13, 16, 17, 18, 19, 20, 21, 23, 24, 25, 26, 27, 28, 29, 30, 31, 32, 33, 34, 35, 36, 37, 38, 39, 40, 41, 42, 43, 44, 45, 47, 48, 49, 50, 51, 52, 53, 54, 55, 56, 57, 58, 59, 60, 61, 63, 64, 65, 66, 68, 69, 70, 71, 73, 74, 75, 76, 77, 78, 79, 80, 81, 82, 83, 84, 85, 86, 87, 88, 89, 90])\n",
      "set([0, 1, 2, 3, 4, 5, 6, 7, 8, 9, 10, 11, 12, 13, 16, 17, 19, 20, 21, 23, 24, 25, 26, 27, 28, 29, 30, 31, 32, 33, 34, 35, 36, 37, 38, 39, 40, 41, 42, 43, 44, 45, 47, 48, 49, 50, 51, 52, 53, 54, 55, 56, 57, 58, 59, 60, 61, 63, 64, 65, 66, 68, 69, 70, 71, 73, 74, 75, 76, 77, 78, 79, 80, 81, 82, 83, 84, 85, 86, 87, 88, 89, 90])\n",
      "set([0, 1, 2, 3, 4, 5, 6, 7, 8, 9, 10, 11, 12, 13, 16, 17, 19, 20, 21, 23, 24, 25, 26, 27, 28, 29, 30, 31, 32, 33, 34, 35, 36, 37, 38, 39, 40, 41, 42, 43, 44, 45, 47, 48, 49, 50, 51, 52, 53, 54, 55, 56, 57, 59, 60, 61, 63, 64, 65, 66, 68, 69, 70, 71, 73, 74, 75, 76, 77, 78, 79, 80, 81, 82, 83, 84, 85, 86, 87, 88, 89, 90])\n",
      "set([0, 1, 2, 3, 4, 5, 6, 7, 8, 9, 10, 11, 12, 13, 16, 17, 19, 20, 21, 23, 24, 26, 27, 28, 29, 30, 31, 32, 33, 34, 35, 36, 37, 38, 39, 40, 41, 42, 43, 44, 45, 47, 48, 49, 50, 51, 52, 53, 54, 55, 56, 57, 59, 60, 61, 63, 64, 65, 66, 68, 69, 70, 71, 73, 74, 75, 76, 77, 78, 79, 80, 81, 82, 83, 84, 85, 86, 87, 88, 89, 90])\n",
      "set([0, 1, 2, 3, 4, 5, 6, 7, 8, 9, 10, 11, 12, 13, 16, 17, 19, 20, 21, 23, 24, 26, 27, 28, 29, 30, 31, 32, 33, 34, 35, 36, 37, 38, 39, 40, 41, 42, 43, 44, 45, 47, 48, 49, 50, 51, 52, 53, 54, 55, 56, 57, 59, 60, 61, 63, 64, 66, 68, 69, 70, 71, 73, 74, 75, 76, 77, 78, 79, 80, 81, 82, 83, 84, 85, 86, 87, 88, 89, 90])\n",
      "set([0, 1, 2, 3, 4, 5, 6, 7, 8, 9, 10, 11, 12, 13, 16, 17, 19, 20, 21, 23, 24, 26, 27, 28, 29, 30, 31, 32, 33, 34, 35, 36, 37, 38, 39, 40, 41, 42, 43, 44, 45, 47, 48, 49, 50, 51, 52, 53, 54, 55, 56, 57, 59, 60, 63, 64, 66, 68, 69, 70, 71, 73, 74, 75, 76, 77, 78, 79, 80, 81, 82, 83, 84, 85, 86, 87, 88, 89, 90])\n",
      "set([0, 1, 2, 3, 4, 5, 6, 7, 8, 9, 10, 11, 12, 13, 16, 17, 19, 20, 21, 23, 24, 26, 27, 28, 29, 30, 31, 32, 33, 34, 35, 36, 38, 39, 40, 41, 42, 43, 44, 45, 47, 48, 49, 50, 51, 52, 53, 54, 55, 56, 57, 59, 60, 63, 64, 66, 68, 69, 70, 71, 73, 74, 75, 76, 77, 78, 79, 80, 81, 82, 83, 84, 85, 86, 87, 88, 89, 90])\n",
      "set([0, 1, 2, 3, 4, 5, 6, 7, 8, 9, 10, 11, 12, 13, 16, 17, 19, 20, 21, 23, 24, 26, 27, 28, 29, 30, 31, 32, 33, 34, 35, 36, 38, 40, 41, 42, 43, 44, 45, 47, 48, 49, 50, 51, 52, 53, 54, 55, 56, 57, 59, 60, 63, 64, 66, 68, 69, 70, 71, 73, 74, 75, 76, 77, 78, 79, 80, 81, 82, 83, 84, 85, 86, 87, 88, 89, 90])\n",
      "set([0, 1, 2, 3, 4, 5, 6, 7, 8, 9, 10, 11, 12, 13, 16, 17, 19, 20, 21, 23, 24, 26, 27, 28, 29, 30, 31, 32, 33, 34, 35, 36, 38, 40, 41, 42, 43, 44, 45, 47, 48, 49, 50, 52, 53, 54, 55, 56, 57, 59, 60, 63, 64, 66, 68, 69, 70, 71, 73, 74, 75, 76, 77, 78, 79, 80, 81, 82, 83, 84, 85, 86, 87, 88, 89, 90])\n",
      "set([0, 1, 2, 3, 4, 5, 6, 7, 8, 9, 10, 11, 12, 13, 16, 17, 19, 20, 21, 23, 24, 26, 27, 28, 29, 30, 31, 32, 33, 34, 35, 36, 38, 40, 41, 42, 43, 44, 45, 47, 48, 49, 50, 52, 53, 54, 55, 56, 57, 59, 60, 63, 64, 66, 68, 69, 70, 71, 73, 74, 75, 76, 77, 78, 79, 80, 81, 82, 84, 85, 86, 87, 88, 89, 90])\n",
      "set([0, 1, 2, 3, 4, 5, 6, 7, 8, 9, 10, 11, 12, 13, 16, 17, 19, 20, 21, 23, 24, 26, 27, 28, 29, 30, 31, 32, 33, 34, 35, 36, 38, 41, 42, 43, 44, 45, 47, 48, 49, 50, 52, 53, 54, 55, 56, 57, 59, 60, 63, 64, 66, 68, 69, 70, 71, 73, 74, 75, 76, 77, 78, 79, 80, 81, 82, 84, 85, 86, 87, 88, 89, 90])\n",
      "set([0, 1, 2, 3, 4, 6, 7, 8, 9, 10, 11, 12, 13, 16, 17, 19, 20, 21, 23, 24, 26, 27, 28, 29, 30, 31, 32, 33, 34, 35, 36, 38, 41, 42, 43, 44, 45, 47, 48, 49, 50, 52, 53, 54, 55, 56, 57, 59, 60, 63, 64, 66, 68, 69, 70, 71, 73, 74, 75, 76, 77, 78, 79, 80, 81, 82, 84, 85, 86, 87, 88, 89, 90])\n",
      "set([0, 1, 2, 3, 4, 6, 7, 8, 9, 10, 11, 12, 13, 16, 17, 19, 20, 21, 23, 24, 26, 27, 28, 29, 30, 31, 32, 33, 34, 35, 36, 38, 41, 42, 43, 44, 45, 47, 48, 49, 50, 52, 53, 54, 55, 56, 57, 59, 60, 63, 64, 66, 68, 69, 71, 73, 74, 75, 76, 77, 78, 79, 80, 81, 82, 84, 85, 86, 87, 88, 89, 90])\n",
      "set([0, 2, 3, 4, 6, 7, 8, 9, 10, 11, 12, 13, 16, 17, 19, 20, 21, 23, 24, 26, 27, 28, 29, 30, 31, 32, 33, 34, 35, 36, 38, 41, 42, 43, 44, 45, 47, 48, 49, 50, 52, 53, 54, 55, 56, 57, 59, 60, 63, 64, 66, 68, 69, 71, 73, 74, 75, 76, 77, 78, 79, 80, 81, 82, 84, 85, 86, 87, 88, 89, 90])\n",
      "set([0, 2, 3, 4, 6, 7, 8, 9, 10, 11, 12, 13, 16, 17, 19, 20, 21, 23, 24, 26, 27, 28, 29, 30, 32, 33, 34, 35, 36, 38, 41, 42, 43, 44, 45, 47, 48, 49, 50, 52, 53, 54, 55, 56, 57, 59, 60, 63, 64, 66, 68, 69, 71, 73, 74, 75, 76, 77, 78, 79, 80, 81, 82, 84, 85, 86, 87, 88, 89, 90])\n",
      "set([0, 2, 3, 4, 6, 7, 8, 9, 10, 11, 12, 13, 16, 17, 19, 20, 21, 23, 24, 26, 27, 28, 29, 30, 32, 33, 34, 35, 36, 38, 41, 42, 43, 44, 45, 47, 48, 49, 50, 52, 53, 54, 55, 56, 57, 59, 60, 63, 64, 66, 68, 69, 71, 73, 74, 75, 76, 77, 78, 79, 80, 81, 82, 84, 86, 87, 88, 89, 90])\n",
      "set([0, 2, 3, 4, 6, 7, 8, 9, 10, 11, 12, 16, 17, 19, 20, 21, 23, 24, 26, 27, 28, 29, 30, 32, 33, 34, 35, 36, 38, 41, 42, 43, 44, 45, 47, 48, 49, 50, 52, 53, 54, 55, 56, 57, 59, 60, 63, 64, 66, 68, 69, 71, 73, 74, 75, 76, 77, 78, 79, 80, 81, 82, 84, 86, 87, 88, 89, 90])\n",
      "set([0, 2, 3, 4, 6, 7, 8, 9, 10, 12, 16, 17, 19, 20, 21, 23, 24, 26, 27, 28, 29, 30, 32, 33, 34, 35, 36, 38, 41, 42, 43, 44, 45, 47, 48, 49, 50, 52, 53, 54, 55, 56, 57, 59, 60, 63, 64, 66, 68, 69, 71, 73, 74, 75, 76, 77, 78, 79, 80, 81, 82, 84, 86, 87, 88, 89, 90])\n",
      "set([0, 2, 3, 4, 6, 7, 8, 9, 10, 16, 17, 19, 20, 21, 23, 24, 26, 27, 28, 29, 30, 32, 33, 34, 35, 36, 38, 41, 42, 43, 44, 45, 47, 48, 49, 50, 52, 53, 54, 55, 56, 57, 59, 60, 63, 64, 66, 68, 69, 71, 73, 74, 75, 76, 77, 78, 79, 80, 81, 82, 84, 86, 87, 88, 89, 90])\n",
      "set([2, 3, 4, 6, 7, 8, 9, 10, 16, 17, 19, 20, 21, 23, 24, 26, 27, 28, 29, 30, 32, 33, 34, 35, 36, 38, 41, 42, 43, 44, 45, 47, 48, 49, 50, 52, 53, 54, 55, 56, 57, 59, 60, 63, 64, 66, 68, 69, 71, 73, 74, 75, 76, 77, 78, 79, 80, 81, 82, 84, 86, 87, 88, 89, 90])\n"
     ]
    },
    {
     "name": "stdout",
     "output_type": "stream",
     "text": [
      "set([2, 3, 4, 6, 7, 8, 9, 16, 17, 19, 20, 21, 23, 24, 26, 27, 28, 29, 30, 32, 33, 34, 35, 36, 38, 41, 42, 43, 44, 45, 47, 48, 49, 50, 52, 53, 54, 55, 56, 57, 59, 60, 63, 64, 66, 68, 69, 71, 73, 74, 75, 76, 77, 78, 79, 80, 81, 82, 84, 86, 87, 88, 89, 90])\n",
      "set([2, 3, 4, 6, 8, 9, 16, 17, 19, 20, 21, 23, 24, 26, 27, 28, 29, 30, 32, 33, 34, 35, 36, 38, 41, 42, 43, 44, 45, 47, 48, 49, 50, 52, 53, 54, 55, 56, 57, 59, 60, 63, 64, 66, 68, 69, 71, 73, 74, 75, 76, 77, 78, 79, 80, 81, 82, 84, 86, 87, 88, 89, 90])\n",
      "set([2, 3, 4, 6, 8, 16, 17, 19, 20, 21, 23, 24, 26, 27, 28, 29, 30, 32, 33, 34, 35, 36, 38, 41, 42, 43, 44, 45, 47, 48, 49, 50, 52, 53, 54, 55, 56, 57, 59, 60, 63, 64, 66, 68, 69, 71, 73, 74, 75, 76, 77, 78, 79, 80, 81, 82, 84, 86, 87, 88, 89, 90])\n",
      "set([2, 4, 6, 8, 16, 17, 19, 20, 21, 23, 24, 26, 27, 28, 29, 30, 32, 33, 34, 35, 36, 38, 41, 42, 43, 44, 45, 47, 48, 49, 50, 52, 53, 54, 55, 56, 57, 59, 60, 63, 64, 66, 68, 69, 71, 73, 74, 75, 76, 77, 78, 79, 80, 81, 82, 84, 86, 87, 88, 89, 90])\n",
      "set([2, 4, 6, 8, 16, 17, 19, 20, 21, 23, 24, 26, 27, 28, 29, 30, 32, 33, 34, 35, 36, 38, 41, 42, 43, 44, 45, 47, 48, 49, 50, 52, 53, 54, 55, 56, 57, 59, 60, 64, 66, 68, 69, 71, 73, 74, 75, 76, 77, 78, 79, 80, 81, 82, 84, 86, 87, 88, 89, 90])\n",
      "set([2, 4, 6, 16, 17, 19, 20, 21, 23, 24, 26, 27, 28, 29, 30, 32, 33, 34, 35, 36, 38, 41, 42, 43, 44, 45, 47, 48, 49, 50, 52, 53, 54, 55, 56, 57, 59, 60, 64, 66, 68, 69, 71, 73, 74, 75, 76, 77, 78, 79, 80, 81, 82, 84, 86, 87, 88, 89, 90])\n",
      "set([2, 4, 6, 16, 17, 19, 20, 21, 23, 24, 26, 27, 28, 29, 30, 32, 33, 34, 35, 36, 38, 41, 42, 43, 44, 45, 47, 48, 49, 50, 52, 53, 54, 55, 56, 57, 59, 60, 64, 66, 68, 69, 71, 73, 74, 76, 77, 78, 79, 80, 81, 82, 84, 86, 87, 88, 89, 90])\n",
      "set([2, 4, 6, 16, 17, 19, 20, 21, 23, 24, 26, 27, 28, 29, 30, 32, 33, 34, 35, 36, 38, 41, 42, 43, 44, 45, 47, 48, 49, 50, 52, 53, 54, 55, 56, 57, 59, 60, 64, 66, 68, 71, 73, 74, 76, 77, 78, 79, 80, 81, 82, 84, 86, 87, 88, 89, 90])\n",
      "set([2, 4, 6, 16, 17, 19, 20, 21, 23, 24, 26, 27, 28, 29, 30, 32, 33, 34, 35, 36, 38, 41, 42, 43, 44, 45, 47, 48, 49, 50, 52, 53, 54, 55, 56, 57, 59, 60, 66, 68, 71, 73, 74, 76, 77, 78, 79, 80, 81, 82, 84, 86, 87, 88, 89, 90])\n",
      "set([2, 4, 6, 16, 17, 19, 20, 21, 23, 24, 26, 27, 28, 29, 30, 32, 33, 34, 35, 36, 38, 41, 42, 43, 44, 45, 47, 48, 49, 50, 52, 53, 54, 55, 56, 57, 59, 60, 66, 68, 71, 73, 74, 76, 77, 78, 80, 81, 82, 84, 86, 87, 88, 89, 90])\n",
      "set([2, 4, 6, 16, 17, 19, 20, 23, 24, 26, 27, 28, 29, 30, 32, 33, 34, 35, 36, 38, 41, 42, 43, 44, 45, 47, 48, 49, 50, 52, 53, 54, 55, 56, 57, 59, 60, 66, 68, 71, 73, 74, 76, 77, 78, 80, 81, 82, 84, 86, 87, 88, 89, 90])\n",
      "set([2, 6, 16, 17, 19, 20, 23, 24, 26, 27, 28, 29, 30, 32, 33, 34, 35, 36, 38, 41, 42, 43, 44, 45, 47, 48, 49, 50, 52, 53, 54, 55, 56, 57, 59, 60, 66, 68, 71, 73, 74, 76, 77, 78, 80, 81, 82, 84, 86, 87, 88, 89, 90])\n",
      "set([2, 6, 16, 17, 19, 20, 23, 24, 26, 27, 28, 29, 30, 32, 33, 34, 35, 36, 38, 41, 42, 43, 44, 45, 47, 48, 49, 50, 52, 53, 54, 55, 56, 57, 60, 66, 68, 71, 73, 74, 76, 77, 78, 80, 81, 82, 84, 86, 87, 88, 89, 90])\n",
      "set([2, 6, 16, 17, 19, 20, 23, 26, 27, 28, 29, 30, 32, 33, 34, 35, 36, 38, 41, 42, 43, 44, 45, 47, 48, 49, 50, 52, 53, 54, 55, 56, 57, 60, 66, 68, 71, 73, 74, 76, 77, 78, 80, 81, 82, 84, 86, 87, 88, 89, 90])\n",
      "set([2, 6, 16, 17, 19, 20, 23, 26, 27, 28, 29, 30, 32, 33, 34, 35, 36, 38, 41, 42, 43, 44, 45, 47, 48, 49, 50, 52, 53, 54, 55, 56, 57, 60, 66, 68, 73, 74, 76, 77, 78, 80, 81, 82, 84, 86, 87, 88, 89, 90])\n",
      "set([2, 6, 16, 17, 19, 20, 23, 26, 27, 28, 29, 30, 32, 33, 34, 35, 36, 38, 41, 42, 43, 44, 45, 47, 48, 49, 52, 53, 54, 55, 56, 57, 60, 66, 68, 73, 74, 76, 77, 78, 80, 81, 82, 84, 86, 87, 88, 89, 90])\n",
      "set([2, 6, 16, 17, 19, 20, 23, 26, 27, 28, 29, 30, 32, 33, 34, 35, 36, 38, 41, 42, 43, 44, 45, 47, 48, 49, 52, 53, 54, 55, 56, 57, 60, 66, 68, 73, 74, 76, 77, 78, 80, 81, 82, 86, 87, 88, 89, 90])\n",
      "set([2, 6, 16, 17, 19, 20, 23, 26, 27, 28, 29, 30, 32, 33, 34, 35, 36, 38, 41, 42, 43, 44, 45, 47, 48, 49, 52, 53, 54, 55, 56, 57, 60, 68, 73, 74, 76, 77, 78, 80, 81, 82, 86, 87, 88, 89, 90])\n",
      "set([6, 16, 17, 19, 20, 23, 26, 27, 28, 29, 30, 32, 33, 34, 35, 36, 38, 41, 42, 43, 44, 45, 47, 48, 49, 52, 53, 54, 55, 56, 57, 60, 68, 73, 74, 76, 77, 78, 80, 81, 82, 86, 87, 88, 89, 90])\n",
      "set([6, 17, 19, 20, 23, 26, 27, 28, 29, 30, 32, 33, 34, 35, 36, 38, 41, 42, 43, 44, 45, 47, 48, 49, 52, 53, 54, 55, 56, 57, 60, 68, 73, 74, 76, 77, 78, 80, 81, 82, 86, 87, 88, 89, 90])\n",
      "set([6, 17, 19, 20, 23, 26, 27, 28, 30, 32, 33, 34, 35, 36, 38, 41, 42, 43, 44, 45, 47, 48, 49, 52, 53, 54, 55, 56, 57, 60, 68, 73, 74, 76, 77, 78, 80, 81, 82, 86, 87, 88, 89, 90])\n",
      "set([6, 17, 19, 20, 26, 27, 28, 30, 32, 33, 34, 35, 36, 38, 41, 42, 43, 44, 45, 47, 48, 49, 52, 53, 54, 55, 56, 57, 60, 68, 73, 74, 76, 77, 78, 80, 81, 82, 86, 87, 88, 89, 90])\n",
      "set([6, 17, 19, 20, 26, 27, 28, 30, 32, 33, 34, 35, 36, 38, 42, 43, 44, 45, 47, 48, 49, 52, 53, 54, 55, 56, 57, 60, 68, 73, 74, 76, 77, 78, 80, 81, 82, 86, 87, 88, 89, 90])\n",
      "set([6, 17, 19, 20, 27, 28, 30, 32, 33, 34, 35, 36, 38, 42, 43, 44, 45, 47, 48, 49, 52, 53, 54, 55, 56, 57, 60, 68, 73, 74, 76, 77, 78, 80, 81, 82, 86, 87, 88, 89, 90])\n",
      "set([6, 19, 20, 27, 28, 30, 32, 33, 34, 35, 36, 38, 42, 43, 44, 45, 47, 48, 49, 52, 53, 54, 55, 56, 57, 60, 68, 73, 74, 76, 77, 78, 80, 81, 82, 86, 87, 88, 89, 90])\n",
      "set([6, 19, 20, 27, 28, 30, 32, 33, 34, 36, 38, 42, 43, 44, 45, 47, 48, 49, 52, 53, 54, 55, 56, 57, 60, 68, 73, 74, 76, 77, 78, 80, 81, 82, 86, 87, 88, 89, 90])\n",
      "set([6, 19, 20, 27, 28, 30, 32, 33, 34, 36, 38, 42, 43, 44, 45, 47, 48, 49, 52, 53, 54, 55, 56, 57, 60, 68, 74, 76, 77, 78, 80, 81, 82, 86, 87, 88, 89, 90])\n",
      "set([6, 19, 20, 27, 28, 30, 32, 33, 34, 36, 38, 43, 44, 45, 47, 48, 49, 52, 53, 54, 55, 56, 57, 60, 68, 74, 76, 77, 78, 80, 81, 82, 86, 87, 88, 89, 90])\n",
      "set([6, 19, 20, 27, 28, 30, 33, 34, 36, 38, 43, 44, 45, 47, 48, 49, 52, 53, 54, 55, 56, 57, 60, 68, 74, 76, 77, 78, 80, 81, 82, 86, 87, 88, 89, 90])\n",
      "set([6, 19, 20, 27, 28, 30, 33, 34, 36, 38, 43, 44, 47, 48, 49, 52, 53, 54, 55, 56, 57, 60, 68, 74, 76, 77, 78, 80, 81, 82, 86, 87, 88, 89, 90])\n",
      "set([19, 20, 27, 28, 30, 33, 34, 36, 38, 43, 44, 47, 48, 49, 52, 53, 54, 55, 56, 57, 60, 68, 74, 76, 77, 78, 80, 81, 82, 86, 87, 88, 89, 90])\n",
      "set([19, 20, 27, 28, 30, 33, 34, 36, 38, 44, 47, 48, 49, 52, 53, 54, 55, 56, 57, 60, 68, 74, 76, 77, 78, 80, 81, 82, 86, 87, 88, 89, 90])\n",
      "set([19, 20, 27, 28, 30, 33, 34, 36, 38, 44, 47, 48, 49, 52, 53, 54, 55, 56, 57, 68, 74, 76, 77, 78, 80, 81, 82, 86, 87, 88, 89, 90])\n",
      "set([19, 20, 27, 28, 30, 33, 34, 36, 38, 44, 47, 48, 49, 52, 53, 55, 56, 57, 68, 74, 76, 77, 78, 80, 81, 82, 86, 87, 88, 89, 90])\n",
      "set([19, 20, 27, 28, 30, 33, 34, 36, 38, 44, 47, 48, 49, 52, 53, 55, 56, 57, 74, 76, 77, 78, 80, 81, 82, 86, 87, 88, 89, 90])\n",
      "set([19, 20, 27, 28, 30, 33, 34, 36, 38, 44, 47, 48, 49, 53, 55, 56, 57, 74, 76, 77, 78, 80, 81, 82, 86, 87, 88, 89, 90])\n",
      "set([19, 20, 27, 28, 30, 33, 34, 36, 38, 44, 47, 48, 53, 55, 56, 57, 74, 76, 77, 78, 80, 81, 82, 86, 87, 88, 89, 90])\n",
      "set([19, 20, 27, 28, 30, 33, 34, 36, 38, 44, 47, 48, 53, 55, 56, 57, 74, 76, 77, 78, 80, 82, 86, 87, 88, 89, 90])\n",
      "set([19, 20, 27, 28, 30, 33, 34, 36, 38, 44, 47, 48, 53, 55, 56, 57, 74, 76, 77, 78, 80, 82, 86, 87, 89, 90])\n",
      "set([19, 20, 27, 28, 30, 33, 34, 36, 38, 44, 47, 48, 53, 55, 56, 57, 74, 76, 77, 78, 82, 86, 87, 89, 90])\n",
      "set([19, 20, 27, 28, 30, 33, 34, 36, 38, 44, 47, 48, 53, 55, 56, 57, 74, 76, 77, 78, 86, 87, 89, 90])\n",
      "set([19, 20, 27, 28, 30, 33, 34, 36, 38, 44, 47, 48, 53, 55, 56, 57, 74, 76, 77, 78, 86, 87, 89])\n",
      "set([19, 20, 27, 28, 30, 33, 34, 36, 44, 47, 48, 53, 55, 56, 57, 74, 76, 77, 78, 86, 87, 89])\n",
      "set([34, 36, 76, 74, 87, 44, 77, 78, 47, 48, 19, 20, 53, 86, 55, 56, 57, 27, 28, 89, 30])\n",
      "set([34, 36, 44, 74, 87, 76, 77, 78, 47, 48, 19, 20, 86, 55, 56, 57, 27, 28, 89, 30])\n",
      "set([34, 36, 44, 74, 87, 76, 77, 78, 47, 48, 19, 20, 86, 55, 56, 89, 27, 28, 30])\n",
      "set([34, 36, 44, 74, 76, 77, 78, 47, 48, 19, 20, 86, 87, 56, 89, 27, 28, 30])\n",
      "set([34, 36, 44, 74, 76, 77, 47, 48, 19, 20, 86, 87, 56, 89, 27, 28, 30])\n",
      "set([34, 36, 44, 74, 76, 47, 48, 19, 20, 86, 87, 56, 89, 27, 28, 30])\n",
      "set([34, 36, 44, 74, 76, 47, 48, 20, 86, 87, 56, 89, 27, 28, 30])\n",
      "set([34, 36, 44, 74, 76, 47, 48, 20, 86, 87, 56, 89, 28, 30])\n",
      "set([34, 36, 44, 76, 47, 48, 20, 86, 87, 56, 89, 28, 30])\n"
     ]
    },
    {
     "name": "stdout",
     "output_type": "stream",
     "text": [
      "set([34, 36, 76, 47, 48, 20, 86, 87, 56, 89, 28, 30])\n",
      "set([34, 36, 76, 48, 20, 86, 87, 56, 89, 28, 30])\n",
      "set([34, 36, 76, 48, 86, 87, 56, 89, 28, 30])\n",
      "set([34, 36, 76, 48, 86, 87, 56, 89, 30])\n",
      "20688.8760002\n"
     ]
    }
   ],
   "source": [
    "#df.to_sql('natality', engine, chunksize=100)\n",
    "\n",
    "holdout = pd.read_csv('Natality_holdout_score.csv')\n",
    "\n",
    "holdout.rename(columns = {str(i):i for i in range(166)}, inplace = True)\n",
    "\n",
    "#del df\n",
    "\n",
    "db_name = 'natality_score'\n",
    "\n",
    "s = time.time()\n",
    "res = run(db_name, holdout, 91) \n",
    "print (time.time() - s)\n",
    "\n",
    "#pickle.dump(res, open('natality_cigar_score_res', 'wb'))"
   ]
  },
  {
   "cell_type": "markdown",
   "metadata": {},
   "source": [
    "abnormality as outcome, with prenatal care start time used to define sub-populations."
   ]
  },
  {
   "cell_type": "code",
   "execution_count": 100,
   "metadata": {
    "collapsed": true
   },
   "outputs": [],
   "source": [
    "df = pd.read_csv('Natality_small.csv')\n",
    "\n",
    "df = df[df['ABAssistedVentilation'] != 'U']\n",
    "\n",
    "df = df[df['ABAssistedVentilationMoreThan6Hrs'] != 'U']\n",
    "\n",
    "df = df[df['ABAdmissionToNICU'] != 'U']\n",
    "\n",
    "df = df[df['ABSurfactant'] != 'U']\n",
    "\n",
    "df = df[df['ABAntibiotics'] != 'U']\n",
    "\n",
    "df = df[df['ABSeizures'] != 'U']\n",
    "\n",
    "df = df.drop(columns=['FiveMinuteAPGARScoreRecode', 'DeliveryMethodRecodeRevised'])"
   ]
  },
  {
   "cell_type": "code",
   "execution_count": 17,
   "metadata": {
    "collapsed": true
   },
   "outputs": [],
   "source": [
    "df['outcome'] = np.array((df['ABAssistedVentilation'] == 'Y' ) |\\\n",
    "    (df['ABAssistedVentilationMoreThan6Hrs'] == 'Y') |\\\n",
    "    (df['ABAdmissionToNICU'] == 'Y') |\\\n",
    "    (df['ABSurfactant'] == 'Y') |\\\n",
    "    (df['ABAntibiotics'] == 'Y') |\\\n",
    "    (df['ABSeizures'] == 'Y') )"
   ]
  },
  {
   "cell_type": "code",
   "execution_count": 18,
   "metadata": {
    "collapsed": true
   },
   "outputs": [],
   "source": [
    "df['outcome'] = df['outcome'].astype(int)"
   ]
  },
  {
   "cell_type": "code",
   "execution_count": 19,
   "metadata": {
    "collapsed": true,
    "scrolled": true
   },
   "outputs": [],
   "source": [
    "df = df.drop(columns = ['ABAssistedVentilation', 'ABAssistedVentilationMoreThan6Hrs', \n",
    "                   'ABAdmissionToNICU', 'ABSurfactant', 'ABAntibiotics', 'ABSeizures'])"
   ]
  },
  {
   "cell_type": "code",
   "execution_count": 20,
   "metadata": {
    "collapsed": true
   },
   "outputs": [],
   "source": [
    "df.loc[df['CigaretteRecode'] == 'Y', 'CigaretteRecode'] = 1\n",
    "df.loc[df['CigaretteRecode'] == 'N', 'CigaretteRecode'] = 0"
   ]
  },
  {
   "cell_type": "code",
   "execution_count": 21,
   "metadata": {
    "collapsed": true
   },
   "outputs": [],
   "source": [
    "df['matched'] = 0"
   ]
  },
  {
   "cell_type": "code",
   "execution_count": 22,
   "metadata": {
    "collapsed": true
   },
   "outputs": [],
   "source": [
    "cols = [c for c in df.columns if c.lower()[:4] != 'flag']"
   ]
  },
  {
   "cell_type": "code",
   "execution_count": 23,
   "metadata": {
    "collapsed": true
   },
   "outputs": [],
   "source": [
    "df = df[cols]"
   ]
  },
  {
   "cell_type": "code",
   "execution_count": 24,
   "metadata": {
    "collapsed": true
   },
   "outputs": [
    {
     "name": "stdout",
     "output_type": "stream",
     "text": [
      "RFPrepregnancyDiabetes ['N', 'U', 'Y']\n",
      "RFGestationalDiabetes ['N', 'U', 'Y']\n",
      "RFPrepregnancyHypertension ['N', 'U', 'Y']\n",
      "RFGestationalHypertension ['N', 'U', 'Y']\n",
      "RFEclampsia ['N', 'U', 'Y']\n",
      "RFPreviousPretermBirth ['N', 'U', 'Y']\n",
      "RFPoorPregnancyOutcome ['N', 'U', 'Y']\n",
      "PreviousCesareanDeliveries ['N', 'U', 'Y']\n",
      "OPCervicalCerclage ['N', 'U', 'Y']\n",
      "OPTocolysis ['N', 'U', 'Y']\n",
      "OPSuccessfulExternalCephalicVersion ['N', 'U', 'Y']\n",
      "FailedExternalCephalicVersion ['N', 'U', 'Y']\n",
      "ONPrematureMembraneRapture ['N', 'U', 'Y']\n",
      "ONPrecipitousLabor ['N', 'U', 'Y']\n",
      "ONProlongedLabor ['N', 'U', 'Y']\n",
      "LDInductionOfLabor ['N', 'U', 'Y']\n",
      "LDAugmentationOfLabor ['N', 'U', 'Y']\n",
      "LDLDNonVertexPresentation ['N', 'U', 'Y']\n",
      "LDSteroids ['N', 'U', 'Y']\n",
      "LDAntibiotics ['N', 'U', 'Y']\n",
      "LDChorioamnionitis ['N', 'U', 'Y']\n",
      "LDMeconiumStaining ['N', 'U', 'Y']\n",
      "LDFetalIntolerance ['N', 'U', 'Y']\n",
      "LDAnesthesia ['N', 'U', 'Y']\n",
      "MEAttemptedForceps ['N', 'U', 'Y']\n",
      "MEAttemptedVacuum ['N', 'U', 'Y']\n",
      "METrialOfLaborAttempted ['N', 'U', 'X', 'Y']\n",
      "InfantSex ['F', 'M']\n",
      "ABBirthInjury ['N', 'Y']\n",
      "CAAnencephaly ['N', 'U', 'Y']\n",
      "CAMeningomyeloceleSpinaBifida ['N', 'U', 'Y']\n",
      "CACyanoticCongenitalHeartDisease ['N', 'U', 'Y']\n",
      "CACongenitalDiaphragmaticHernia ['N', 'U', 'Y']\n",
      "CAOmphalocele ['N', 'U', 'Y']\n",
      "CAGastroschisis ['N', 'U', 'Y']\n",
      "CALimbReductionDefect ['N', 'U', 'Y']\n",
      "CACleftLipWWOPalate ['N', 'U', 'Y']\n",
      "CACleftPalateAlone ['N', 'U', 'Y']\n",
      "CADownSyndrome ['C', 'N', 'P', 'U']\n",
      "CASuspectedChromosomalDisorder ['C', 'N', 'P', 'U']\n",
      "CAHypospadias ['N', 'U', 'Y']\n",
      "outcome ['0', '1']\n"
     ]
    }
   ],
   "source": [
    "char_col = []\n",
    "for c in df.columns:    \n",
    "    if df[c].dtype != np.int64:\n",
    "        char_col.append(c)\n",
    "        \n",
    "for c in char_col:\n",
    "    df[c] = df[c].astype(str)\n",
    "    l = sorted(list(np.unique(df[c])))\n",
    "    print c, l\n",
    "    for i in range(len(l)):\n",
    "        df.loc[df[c] == l[i], c] = i"
   ]
  },
  {
   "cell_type": "code",
   "execution_count": 25,
   "metadata": {
    "collapsed": true
   },
   "outputs": [],
   "source": [
    "rename_dict = dict()\n",
    "\n",
    "cols = list(df.columns)\n",
    "\n",
    "cols.remove('matched')\n",
    "cols.remove('outcome')\n",
    "cols.remove('CigaretteRecode')\n",
    "\n",
    "for i in range(len(cols)):\n",
    "    rename_dict[i] = cols[i]"
   ]
  },
  {
   "cell_type": "code",
   "execution_count": 26,
   "metadata": {
    "collapsed": true
   },
   "outputs": [],
   "source": [
    "rename_dict['treated'] = 'CigaretteRecode'"
   ]
  },
  {
   "cell_type": "code",
   "execution_count": 27,
   "metadata": {
    "collapsed": true
   },
   "outputs": [],
   "source": [
    "inv_rename_dict = {v:k for k,v in rename_dict.iteritems()}"
   ]
  },
  {
   "cell_type": "code",
   "execution_count": 28,
   "metadata": {
    "collapsed": true
   },
   "outputs": [],
   "source": [
    "import pickle\n",
    "\n",
    "pickle.dump(rename_dict, open('natality_rename_dict_abnormality', 'wb'))"
   ]
  },
  {
   "cell_type": "code",
   "execution_count": 29,
   "metadata": {
    "collapsed": true
   },
   "outputs": [],
   "source": [
    "df.rename(columns = inv_rename_dict, inplace = True)"
   ]
  },
  {
   "cell_type": "code",
   "execution_count": 30,
   "metadata": {
    "collapsed": true
   },
   "outputs": [],
   "source": [
    "from sklearn.model_selection import train_test_split\n",
    "\n",
    "df, holdout = train_test_split(df, test_size = 0.1, random_state = 345)"
   ]
  },
  {
   "cell_type": "code",
   "execution_count": 31,
   "metadata": {
    "collapsed": true
   },
   "outputs": [],
   "source": [
    "df.to_csv('Natality_db_abnormality.csv', index = False)\n",
    "holdout.to_csv('Natality_holdout_abnormality.csv', index = False)\n",
    "#holdout = pd.read_csv('Natality_holdout.csv')\n",
    "df.to_sql('natality_abnormality', engine, chunksize=100)"
   ]
  },
  {
   "cell_type": "code",
   "execution_count": 39,
   "metadata": {
    "collapsed": true
   },
   "outputs": [],
   "source": [
    "holdout = pd.read_csv('Natality_holdout_abnormality.csv')"
   ]
  },
  {
   "cell_type": "code",
   "execution_count": 42,
   "metadata": {
    "collapsed": true
   },
   "outputs": [
    {
     "name": "stdout",
     "output_type": "stream",
     "text": [
      "[0, 1, 2, 3, 4, 5, 6, 7, 8, 9, 10, 11, 12, 13, 14, 15, 16, 17, 18, 19, 20, 21, 22, 23, 24, 25, 26, 27, 28, 29, 30, 31, 32, 33, 34, 35, 36, 37, 38, 39, 40, 41, 42, 43, 44, 45, 46, 47, 48, 49, 50, 51, 52, 53, 54, 55, 56, 57, 58, 59, 60, 61, 62, 63, 64, 65, 66, 67, 68, 69, 70, 71, 72, 73, 74, 75, 76, 77, 78, 79, 80, 81, 82, 83, 84, 85]\n",
      "set([0, 1, 2, 3, 4, 5, 6, 7, 8, 9, 10, 11, 12, 13, 14, 16, 17, 18, 19, 20, 21, 22, 23, 24, 25, 26, 27, 28, 29, 30, 31, 32, 33, 34, 35, 36, 37, 38, 39, 40, 41, 42, 43, 44, 45, 46, 47, 48, 49, 50, 51, 52, 53, 54, 55, 56, 57, 58, 59, 60, 61, 62, 63, 64, 65, 66, 67, 68, 69, 70, 71, 72, 73, 74, 75, 76, 77, 78, 79, 80, 81, 82, 83, 84, 85])\n",
      "set([0, 1, 2, 3, 4, 5, 6, 7, 8, 9, 10, 11, 12, 13, 16, 17, 18, 19, 20, 21, 22, 23, 24, 25, 26, 27, 28, 29, 30, 31, 32, 33, 34, 35, 36, 37, 38, 39, 40, 41, 42, 43, 44, 45, 46, 47, 48, 49, 50, 51, 52, 53, 54, 55, 56, 57, 58, 59, 60, 61, 62, 63, 64, 65, 66, 67, 68, 69, 70, 71, 72, 73, 74, 75, 76, 77, 78, 79, 80, 81, 82, 83, 84, 85])\n",
      "set([0, 1, 2, 3, 4, 5, 6, 8, 9, 10, 11, 12, 13, 16, 17, 18, 19, 20, 21, 22, 23, 24, 25, 26, 27, 28, 29, 30, 31, 32, 33, 34, 35, 36, 37, 38, 39, 40, 41, 42, 43, 44, 45, 46, 47, 48, 49, 50, 51, 52, 53, 54, 55, 56, 57, 58, 59, 60, 61, 62, 63, 64, 65, 66, 67, 68, 69, 70, 71, 72, 73, 74, 75, 76, 77, 78, 79, 80, 81, 82, 83, 84, 85])\n",
      "set([0, 2, 3, 4, 5, 6, 8, 9, 10, 11, 12, 13, 16, 17, 18, 19, 20, 21, 22, 23, 24, 25, 26, 27, 28, 29, 30, 31, 32, 33, 34, 35, 36, 37, 38, 39, 40, 41, 42, 43, 44, 45, 46, 47, 48, 49, 50, 51, 52, 53, 54, 55, 56, 57, 58, 59, 60, 61, 62, 63, 64, 65, 66, 67, 68, 69, 70, 71, 72, 73, 74, 75, 76, 77, 78, 79, 80, 81, 82, 83, 84, 85])\n",
      "set([0, 2, 3, 4, 5, 6, 8, 9, 10, 11, 13, 16, 17, 18, 19, 20, 21, 22, 23, 24, 25, 26, 27, 28, 29, 30, 31, 32, 33, 34, 35, 36, 37, 38, 39, 40, 41, 42, 43, 44, 45, 46, 47, 48, 49, 50, 51, 52, 53, 54, 55, 56, 57, 58, 59, 60, 61, 62, 63, 64, 65, 66, 67, 68, 69, 70, 71, 72, 73, 74, 75, 76, 77, 78, 79, 80, 81, 82, 83, 84, 85])\n",
      "set([0, 2, 3, 4, 5, 6, 8, 9, 10, 11, 16, 17, 18, 19, 20, 21, 22, 23, 24, 25, 26, 27, 28, 29, 30, 31, 32, 33, 34, 35, 36, 37, 38, 39, 40, 41, 42, 43, 44, 45, 46, 47, 48, 49, 50, 51, 52, 53, 54, 55, 56, 57, 58, 59, 60, 61, 62, 63, 64, 65, 66, 67, 68, 69, 70, 71, 72, 73, 74, 75, 76, 77, 78, 79, 80, 81, 82, 83, 84, 85])\n",
      "set([0, 2, 4, 5, 6, 8, 9, 10, 11, 16, 17, 18, 19, 20, 21, 22, 23, 24, 25, 26, 27, 28, 29, 30, 31, 32, 33, 34, 35, 36, 37, 38, 39, 40, 41, 42, 43, 44, 45, 46, 47, 48, 49, 50, 51, 52, 53, 54, 55, 56, 57, 58, 59, 60, 61, 62, 63, 64, 65, 66, 67, 68, 69, 70, 71, 72, 73, 74, 75, 76, 77, 78, 79, 80, 81, 82, 83, 84, 85])\n",
      "set([0, 2, 4, 5, 6, 8, 9, 11, 16, 17, 18, 19, 20, 21, 22, 23, 24, 25, 26, 27, 28, 29, 30, 31, 32, 33, 34, 35, 36, 37, 38, 39, 40, 41, 42, 43, 44, 45, 46, 47, 48, 49, 50, 51, 52, 53, 54, 55, 56, 57, 58, 59, 60, 61, 62, 63, 64, 65, 66, 67, 68, 69, 70, 71, 72, 73, 74, 75, 76, 77, 78, 79, 80, 81, 82, 83, 84, 85])\n",
      "set([0, 2, 4, 5, 6, 8, 11, 16, 17, 18, 19, 20, 21, 22, 23, 24, 25, 26, 27, 28, 29, 30, 31, 32, 33, 34, 35, 36, 37, 38, 39, 40, 41, 42, 43, 44, 45, 46, 47, 48, 49, 50, 51, 52, 53, 54, 55, 56, 57, 58, 59, 60, 61, 62, 63, 64, 65, 66, 67, 68, 69, 70, 71, 72, 73, 74, 75, 76, 77, 78, 79, 80, 81, 82, 83, 84, 85])\n",
      "set([0, 2, 4, 5, 6, 8, 11, 16, 17, 18, 19, 20, 21, 22, 23, 24, 25, 26, 27, 28, 29, 30, 31, 32, 33, 34, 35, 36, 37, 38, 39, 40, 41, 42, 43, 44, 45, 46, 47, 48, 49, 50, 51, 52, 53, 54, 55, 56, 57, 58, 59, 60, 61, 62, 63, 65, 66, 67, 68, 69, 70, 71, 72, 73, 74, 75, 76, 77, 78, 79, 80, 81, 82, 83, 84, 85])\n",
      "set([0, 2, 4, 5, 6, 8, 16, 17, 18, 19, 20, 21, 22, 23, 24, 25, 26, 27, 28, 29, 30, 31, 32, 33, 34, 35, 36, 37, 38, 39, 40, 41, 42, 43, 44, 45, 46, 47, 48, 49, 50, 51, 52, 53, 54, 55, 56, 57, 58, 59, 60, 61, 62, 63, 65, 66, 67, 68, 69, 70, 71, 72, 73, 74, 75, 76, 77, 78, 79, 80, 81, 82, 83, 84, 85])\n",
      "set([0, 2, 4, 5, 6, 16, 17, 18, 19, 20, 21, 22, 23, 24, 25, 26, 27, 28, 29, 30, 31, 32, 33, 34, 35, 36, 37, 38, 39, 40, 41, 42, 43, 44, 45, 46, 47, 48, 49, 50, 51, 52, 53, 54, 55, 56, 57, 58, 59, 60, 61, 62, 63, 65, 66, 67, 68, 69, 70, 71, 72, 73, 74, 75, 76, 77, 78, 79, 80, 81, 82, 83, 84, 85])\n",
      "set([0, 2, 4, 5, 6, 16, 17, 18, 19, 20, 21, 22, 23, 24, 25, 26, 27, 28, 29, 30, 31, 32, 33, 34, 35, 36, 37, 38, 39, 40, 41, 42, 43, 44, 45, 46, 47, 48, 49, 50, 51, 52, 53, 54, 55, 56, 57, 58, 60, 61, 62, 63, 65, 66, 67, 68, 69, 70, 71, 72, 73, 74, 75, 76, 77, 78, 79, 80, 81, 82, 83, 84, 85])\n",
      "set([0, 2, 4, 5, 6, 16, 17, 18, 19, 20, 21, 22, 23, 24, 25, 26, 27, 28, 29, 30, 31, 32, 33, 34, 35, 36, 37, 38, 39, 40, 41, 42, 43, 44, 45, 46, 47, 48, 49, 50, 51, 52, 53, 54, 55, 56, 57, 60, 61, 62, 63, 65, 66, 67, 68, 69, 70, 71, 72, 73, 74, 75, 76, 77, 78, 79, 80, 81, 82, 83, 84, 85])\n",
      "set([2, 4, 5, 6, 16, 17, 18, 19, 20, 21, 22, 23, 24, 25, 26, 27, 28, 29, 30, 31, 32, 33, 34, 35, 36, 37, 38, 39, 40, 41, 42, 43, 44, 45, 46, 47, 48, 49, 50, 51, 52, 53, 54, 55, 56, 57, 60, 61, 62, 63, 65, 66, 67, 68, 69, 70, 71, 72, 73, 74, 75, 76, 77, 78, 79, 80, 81, 82, 83, 84, 85])\n",
      "set([2, 4, 5, 6, 16, 17, 18, 19, 20, 21, 22, 23, 24, 25, 26, 27, 28, 29, 30, 31, 32, 33, 34, 35, 36, 37, 38, 39, 40, 41, 42, 43, 44, 45, 46, 47, 48, 49, 50, 51, 52, 53, 54, 55, 56, 57, 60, 61, 63, 65, 66, 67, 68, 69, 70, 71, 72, 73, 74, 75, 76, 77, 78, 79, 80, 81, 82, 83, 84, 85])\n",
      "set([2, 4, 5, 6, 16, 17, 18, 19, 20, 21, 22, 23, 24, 25, 26, 27, 28, 29, 30, 31, 32, 33, 34, 35, 36, 37, 38, 39, 40, 41, 42, 43, 44, 45, 46, 47, 48, 49, 50, 51, 52, 53, 54, 55, 56, 57, 60, 61, 63, 65, 67, 68, 69, 70, 71, 72, 73, 74, 75, 76, 77, 78, 79, 80, 81, 82, 83, 84, 85])\n",
      "set([2, 5, 6, 16, 17, 18, 19, 20, 21, 22, 23, 24, 25, 26, 27, 28, 29, 30, 31, 32, 33, 34, 35, 36, 37, 38, 39, 40, 41, 42, 43, 44, 45, 46, 47, 48, 49, 50, 51, 52, 53, 54, 55, 56, 57, 60, 61, 63, 65, 67, 68, 69, 70, 71, 72, 73, 74, 75, 76, 77, 78, 79, 80, 81, 82, 83, 84, 85])\n",
      "set([2, 5, 6, 16, 17, 18, 19, 20, 21, 23, 24, 25, 26, 27, 28, 29, 30, 31, 32, 33, 34, 35, 36, 37, 38, 39, 40, 41, 42, 43, 44, 45, 46, 47, 48, 49, 50, 51, 52, 53, 54, 55, 56, 57, 60, 61, 63, 65, 67, 68, 69, 70, 71, 72, 73, 74, 75, 76, 77, 78, 79, 80, 81, 82, 83, 84, 85])\n",
      "set([2, 5, 6, 16, 17, 18, 19, 20, 23, 24, 25, 26, 27, 28, 29, 30, 31, 32, 33, 34, 35, 36, 37, 38, 39, 40, 41, 42, 43, 44, 45, 46, 47, 48, 49, 50, 51, 52, 53, 54, 55, 56, 57, 60, 61, 63, 65, 67, 68, 69, 70, 71, 72, 73, 74, 75, 76, 77, 78, 79, 80, 81, 82, 83, 84, 85])\n",
      "set([2, 6, 16, 17, 18, 19, 20, 23, 24, 25, 26, 27, 28, 29, 30, 31, 32, 33, 34, 35, 36, 37, 38, 39, 40, 41, 42, 43, 44, 45, 46, 47, 48, 49, 50, 51, 52, 53, 54, 55, 56, 57, 60, 61, 63, 65, 67, 68, 69, 70, 71, 72, 73, 74, 75, 76, 77, 78, 79, 80, 81, 82, 83, 84, 85])\n",
      "set([2, 6, 16, 17, 18, 19, 20, 23, 24, 25, 26, 27, 28, 29, 30, 31, 32, 33, 34, 35, 36, 37, 38, 39, 40, 41, 42, 43, 44, 45, 46, 47, 48, 49, 50, 51, 52, 53, 54, 55, 56, 57, 60, 61, 63, 65, 67, 68, 69, 70, 71, 72, 73, 75, 76, 77, 78, 79, 80, 81, 82, 83, 84, 85])\n",
      "set([2, 6, 16, 17, 18, 19, 20, 23, 24, 25, 26, 27, 28, 29, 30, 31, 32, 33, 34, 35, 36, 37, 38, 39, 40, 41, 42, 43, 44, 45, 46, 47, 48, 49, 51, 52, 53, 54, 55, 56, 57, 60, 61, 63, 65, 67, 68, 69, 70, 71, 72, 73, 75, 76, 77, 78, 79, 80, 81, 82, 83, 84, 85])\n",
      "set([2, 6, 16, 17, 18, 19, 20, 23, 25, 26, 27, 28, 29, 30, 31, 32, 33, 34, 35, 36, 37, 38, 39, 40, 41, 42, 43, 44, 45, 46, 47, 48, 49, 51, 52, 53, 54, 55, 56, 57, 60, 61, 63, 65, 67, 68, 69, 70, 71, 72, 73, 75, 76, 77, 78, 79, 80, 81, 82, 83, 84, 85])\n",
      "set([2, 6, 16, 17, 18, 19, 20, 23, 25, 26, 27, 28, 29, 30, 31, 32, 33, 34, 35, 36, 37, 38, 39, 40, 41, 42, 43, 44, 45, 46, 47, 48, 49, 51, 52, 53, 54, 55, 56, 57, 60, 61, 63, 65, 67, 68, 69, 70, 71, 72, 73, 75, 76, 77, 79, 80, 81, 82, 83, 84, 85])\n",
      "set([2, 6, 16, 17, 18, 19, 20, 23, 25, 26, 27, 28, 29, 30, 31, 32, 33, 34, 35, 36, 37, 38, 40, 41, 42, 43, 44, 45, 46, 47, 48, 49, 51, 52, 53, 54, 55, 56, 57, 60, 61, 63, 65, 67, 68, 69, 70, 71, 72, 73, 75, 76, 77, 79, 80, 81, 82, 83, 84, 85])\n",
      "set([2, 6, 16, 17, 18, 19, 20, 23, 25, 26, 27, 28, 29, 30, 31, 32, 33, 34, 35, 36, 37, 38, 40, 41, 42, 43, 44, 45, 46, 47, 48, 49, 51, 52, 53, 54, 55, 56, 57, 60, 61, 63, 65, 68, 69, 70, 71, 72, 73, 75, 76, 77, 79, 80, 81, 82, 83, 84, 85])\n",
      "set([2, 6, 16, 17, 18, 19, 20, 23, 25, 26, 27, 28, 29, 30, 31, 32, 33, 34, 35, 36, 37, 38, 40, 41, 42, 43, 44, 45, 46, 47, 48, 49, 52, 53, 54, 55, 56, 57, 60, 61, 63, 65, 68, 69, 70, 71, 72, 73, 75, 76, 77, 79, 80, 81, 82, 83, 84, 85])\n"
     ]
    },
    {
     "name": "stdout",
     "output_type": "stream",
     "text": [
      "set([2, 6, 16, 17, 18, 19, 20, 23, 25, 26, 27, 28, 29, 30, 31, 32, 33, 34, 35, 36, 37, 38, 40, 41, 42, 43, 44, 45, 46, 47, 48, 49, 52, 53, 54, 55, 56, 57, 60, 61, 63, 68, 69, 70, 71, 72, 73, 75, 76, 77, 79, 80, 81, 82, 83, 84, 85])\n",
      "set([6, 16, 17, 18, 19, 20, 23, 25, 26, 27, 28, 29, 30, 31, 32, 33, 34, 35, 36, 37, 38, 40, 41, 42, 43, 44, 45, 46, 47, 48, 49, 52, 53, 54, 55, 56, 57, 60, 61, 63, 68, 69, 70, 71, 72, 73, 75, 76, 77, 79, 80, 81, 82, 83, 84, 85])\n",
      "set([6, 16, 17, 18, 19, 20, 23, 25, 26, 27, 28, 29, 30, 31, 32, 33, 34, 35, 36, 37, 38, 40, 41, 42, 43, 44, 45, 46, 47, 48, 49, 52, 53, 54, 55, 56, 57, 60, 61, 68, 69, 70, 71, 72, 73, 75, 76, 77, 79, 80, 81, 82, 83, 84, 85])\n",
      "set([6, 16, 17, 18, 19, 20, 23, 25, 26, 27, 28, 29, 30, 31, 32, 33, 34, 35, 36, 37, 38, 40, 41, 42, 43, 44, 45, 46, 47, 48, 49, 52, 53, 54, 55, 56, 57, 60, 61, 68, 69, 71, 72, 73, 75, 76, 77, 79, 80, 81, 82, 83, 84, 85])\n",
      "set([6, 16, 17, 18, 19, 20, 23, 25, 26, 27, 28, 29, 30, 31, 32, 33, 34, 35, 36, 37, 38, 40, 41, 42, 43, 44, 45, 46, 47, 48, 49, 52, 53, 54, 55, 56, 57, 61, 68, 69, 71, 72, 73, 75, 76, 77, 79, 80, 81, 82, 83, 84, 85])\n",
      "set([6, 16, 17, 18, 19, 20, 23, 25, 26, 27, 28, 29, 30, 31, 33, 34, 35, 36, 37, 38, 40, 41, 42, 43, 44, 45, 46, 47, 48, 49, 52, 53, 54, 55, 56, 57, 61, 68, 69, 71, 72, 73, 75, 76, 77, 79, 80, 81, 82, 83, 84, 85])\n",
      "set([6, 16, 17, 18, 19, 20, 23, 25, 26, 27, 28, 29, 30, 33, 34, 35, 36, 37, 38, 40, 41, 42, 43, 44, 45, 46, 47, 48, 49, 52, 53, 54, 55, 56, 57, 61, 68, 69, 71, 72, 73, 75, 76, 77, 79, 80, 81, 82, 83, 84, 85])\n",
      "set([6, 16, 17, 18, 19, 20, 23, 25, 26, 27, 28, 29, 30, 33, 34, 35, 36, 37, 38, 40, 41, 42, 43, 44, 46, 47, 48, 49, 52, 53, 54, 55, 56, 57, 61, 68, 69, 71, 72, 73, 75, 76, 77, 79, 80, 81, 82, 83, 84, 85])\n",
      "set([6, 16, 17, 18, 19, 20, 23, 25, 26, 27, 28, 29, 30, 33, 34, 35, 36, 38, 40, 41, 42, 43, 44, 46, 47, 48, 49, 52, 53, 54, 55, 56, 57, 61, 68, 69, 71, 72, 73, 75, 76, 77, 79, 80, 81, 82, 83, 84, 85])\n",
      "set([6, 16, 17, 18, 19, 20, 23, 25, 26, 27, 28, 29, 30, 33, 34, 35, 36, 38, 40, 41, 42, 43, 44, 46, 47, 48, 49, 52, 53, 54, 55, 56, 57, 61, 68, 69, 71, 72, 73, 75, 76, 77, 80, 81, 82, 83, 84, 85])\n",
      "set([6, 16, 17, 18, 19, 20, 23, 25, 26, 27, 28, 29, 30, 33, 34, 35, 36, 38, 40, 41, 43, 44, 46, 47, 48, 49, 52, 53, 54, 55, 56, 57, 61, 68, 69, 71, 72, 73, 75, 76, 77, 80, 81, 82, 83, 84, 85])\n",
      "set([6, 16, 17, 18, 19, 20, 23, 25, 26, 27, 28, 29, 30, 33, 34, 35, 36, 38, 41, 43, 44, 46, 47, 48, 49, 52, 53, 54, 55, 56, 57, 61, 68, 69, 71, 72, 73, 75, 76, 77, 80, 81, 82, 83, 84, 85])\n",
      "set([6, 16, 17, 18, 19, 20, 23, 25, 26, 27, 28, 29, 30, 33, 34, 36, 38, 41, 43, 44, 46, 47, 48, 49, 52, 53, 54, 55, 56, 57, 61, 68, 69, 71, 72, 73, 75, 76, 77, 80, 81, 82, 83, 84, 85])\n",
      "set([6, 16, 17, 18, 19, 20, 23, 25, 26, 27, 28, 29, 30, 33, 34, 36, 38, 43, 44, 46, 47, 48, 49, 52, 53, 54, 55, 56, 57, 61, 68, 69, 71, 72, 73, 75, 76, 77, 80, 81, 82, 83, 84, 85])\n",
      "set([6, 16, 17, 18, 19, 20, 25, 26, 27, 28, 29, 30, 33, 34, 36, 38, 43, 44, 46, 47, 48, 49, 52, 53, 54, 55, 56, 57, 61, 68, 69, 71, 72, 73, 75, 76, 77, 80, 81, 82, 83, 84, 85])\n",
      "set([6, 16, 17, 18, 19, 20, 25, 26, 27, 28, 29, 30, 33, 34, 36, 38, 44, 46, 47, 48, 49, 52, 53, 54, 55, 56, 57, 61, 68, 69, 71, 72, 73, 75, 76, 77, 80, 81, 82, 83, 84, 85])\n",
      "set([6, 16, 17, 18, 19, 20, 25, 26, 27, 28, 30, 33, 34, 36, 38, 44, 46, 47, 48, 49, 52, 53, 54, 55, 56, 57, 61, 68, 69, 71, 72, 73, 75, 76, 77, 80, 81, 82, 83, 84, 85])\n",
      "set([6, 16, 17, 18, 19, 20, 25, 26, 27, 28, 30, 33, 34, 36, 38, 44, 47, 48, 49, 52, 53, 54, 55, 56, 57, 61, 68, 69, 71, 72, 73, 75, 76, 77, 80, 81, 82, 83, 84, 85])\n",
      "set([16, 17, 18, 19, 20, 25, 26, 27, 28, 30, 33, 34, 36, 38, 44, 47, 48, 49, 52, 53, 54, 55, 56, 57, 61, 68, 69, 71, 72, 73, 75, 76, 77, 80, 81, 82, 83, 84, 85])\n",
      "set([16, 17, 18, 19, 20, 25, 26, 27, 28, 30, 33, 34, 36, 38, 44, 47, 48, 49, 52, 53, 54, 55, 56, 57, 68, 69, 71, 72, 73, 75, 76, 77, 80, 81, 82, 83, 84, 85])\n",
      "set([16, 17, 18, 19, 20, 25, 26, 27, 28, 30, 33, 34, 36, 38, 44, 47, 48, 49, 52, 53, 55, 56, 57, 68, 69, 71, 72, 73, 75, 76, 77, 80, 81, 82, 83, 84, 85])\n",
      "set([16, 17, 18, 19, 20, 25, 26, 27, 28, 30, 33, 34, 36, 38, 44, 47, 48, 49, 53, 55, 56, 57, 68, 69, 71, 72, 73, 75, 76, 77, 80, 81, 82, 83, 84, 85])\n",
      "set([16, 17, 18, 19, 20, 25, 26, 27, 28, 30, 33, 34, 36, 38, 44, 47, 48, 53, 55, 56, 57, 68, 69, 71, 72, 73, 75, 76, 77, 80, 81, 82, 83, 84, 85])\n",
      "set([16, 17, 18, 19, 20, 25, 26, 27, 28, 30, 33, 34, 36, 38, 44, 47, 48, 53, 55, 56, 57, 68, 69, 71, 72, 73, 75, 77, 80, 81, 82, 83, 84, 85])\n",
      "set([16, 17, 18, 19, 20, 25, 26, 27, 28, 30, 33, 34, 36, 38, 44, 47, 48, 53, 55, 56, 57, 68, 69, 71, 72, 73, 75, 77, 80, 81, 82, 84, 85])\n",
      "set([16, 17, 18, 19, 20, 25, 26, 27, 28, 30, 33, 34, 36, 38, 44, 47, 48, 53, 55, 56, 57, 68, 69, 71, 72, 73, 77, 80, 81, 82, 84, 85])\n",
      "set([16, 17, 18, 19, 20, 25, 26, 27, 28, 30, 33, 34, 36, 38, 44, 47, 48, 53, 55, 56, 57, 68, 69, 71, 72, 73, 80, 81, 82, 84, 85])\n",
      "set([16, 17, 18, 19, 20, 25, 26, 27, 28, 30, 33, 34, 36, 38, 44, 47, 48, 53, 55, 56, 57, 68, 69, 71, 72, 73, 80, 81, 82, 84])\n",
      "set([17, 18, 19, 20, 25, 26, 27, 28, 30, 33, 34, 36, 38, 44, 47, 48, 53, 55, 56, 57, 68, 69, 71, 72, 73, 80, 81, 82, 84])\n",
      "set([17, 18, 19, 20, 26, 27, 28, 30, 33, 34, 36, 38, 44, 47, 48, 53, 55, 56, 57, 68, 69, 71, 72, 73, 80, 81, 82, 84])\n",
      "set([18, 19, 20, 26, 27, 28, 30, 33, 34, 36, 38, 44, 47, 48, 53, 55, 56, 57, 68, 69, 71, 72, 73, 80, 81, 82, 84])\n",
      "set([18, 19, 20, 26, 27, 28, 30, 33, 34, 36, 38, 44, 47, 48, 53, 55, 56, 57, 68, 69, 71, 72, 73, 80, 81, 82])\n",
      "set([18, 19, 20, 26, 27, 28, 30, 33, 34, 36, 38, 44, 47, 48, 53, 55, 56, 57, 68, 69, 72, 73, 80, 81, 82])\n",
      "set([18, 19, 20, 26, 27, 28, 30, 33, 34, 36, 38, 44, 47, 48, 53, 55, 56, 57, 68, 69, 73, 80, 81, 82])\n",
      "set([18, 19, 20, 26, 27, 28, 30, 33, 34, 36, 38, 44, 47, 48, 53, 55, 56, 57, 68, 69, 73, 80, 81])\n",
      "set([18, 19, 20, 26, 27, 28, 30, 33, 34, 36, 38, 44, 47, 48, 53, 55, 56, 57, 68, 69, 80, 81])\n",
      "set([68, 80, 34, 36, 69, 38, 44, 47, 48, 81, 18, 19, 20, 53, 55, 56, 57, 26, 27, 28, 30])\n",
      "set([68, 80, 34, 36, 69, 44, 47, 48, 81, 18, 19, 20, 53, 55, 56, 57, 26, 27, 28, 30])\n",
      "set([68, 80, 34, 36, 69, 44, 47, 48, 81, 18, 20, 53, 55, 56, 57, 26, 27, 28, 30])\n",
      "set([68, 80, 34, 36, 69, 44, 47, 48, 81, 18, 20, 53, 55, 56, 57, 26, 28, 30])\n",
      "set([68, 80, 34, 36, 69, 47, 48, 81, 18, 20, 53, 55, 56, 57, 26, 28, 30])\n",
      "set([68, 80, 34, 36, 69, 48, 81, 18, 20, 53, 55, 56, 57, 26, 28, 30])\n",
      "set([80, 34, 68, 69, 48, 81, 18, 20, 53, 55, 56, 57, 26, 28, 30])\n",
      "set([34, 68, 69, 80, 81, 18, 20, 53, 55, 56, 57, 26, 28, 30])\n",
      "set([34, 68, 80, 81, 18, 20, 53, 55, 56, 57, 26, 28, 30])\n",
      "set([34, 68, 80, 81, 18, 20, 53, 55, 56, 26, 28, 30])\n",
      "set([34, 68, 80, 81, 18, 20, 55, 56, 26, 28, 30])\n",
      "set([34, 68, 80, 81, 18, 20, 55, 56, 26, 28])\n",
      "set([68, 80, 81, 18, 20, 55, 56, 26, 28])\n",
      "set([80, 81, 18, 20, 55, 56, 26, 28])\n",
      "set([81, 18, 20, 55, 56, 26, 28])\n",
      "18524.483\n"
     ]
    }
   ],
   "source": [
    "#df.to_sql('natality', engine, chunksize=100)\n",
    "\n",
    "holdout = pd.read_csv('Natality_holdout_abnormality.csv')\n",
    "\n",
    "holdout.rename(columns = {str(i):i for i in range(166)}, inplace = True)\n",
    "\n",
    "#del df\n",
    "\n",
    "db_name = 'natality_abnormality'\n",
    "\n",
    "s = time.time()\n",
    "res = run(db_name, holdout, 86) \n",
    "print (time.time() - s)\n",
    "\n",
    "pickle.dump(res, open('natality_cigar_abnormality_res', 'wb'))"
   ]
  },
  {
   "cell_type": "code",
   "execution_count": 7,
   "metadata": {
    "collapsed": true
   },
   "outputs": [],
   "source": [
    "res = pickle.load(open('natality_cigar_score_res', 'rb'))\n",
    "\n",
    "rename_dict = pickle.load(open('natality_rename_dict_score'))"
   ]
  },
  {
   "cell_type": "code",
   "execution_count": 7,
   "metadata": {
    "collapsed": true
   },
   "outputs": [],
   "source": [
    "def weighted_avg_and_std(values, weights):\n",
    "    \"\"\"\n",
    "    Return the weighted average and standard deviation.\n",
    "\n",
    "    values, weights -- Numpy ndarrays with the same shape.\n",
    "    \"\"\"\n",
    "    ave = np.average(values, weights=weights)\n",
    "    var = np.average((values-ave)**2, weights=weights)  # Fast and numerically precise\n",
    "    return (ave, np.sqrt(var))"
   ]
  },
  {
   "cell_type": "code",
   "execution_count": 41,
   "metadata": {},
   "outputs": [
    {
     "name": "stdout",
     "output_type": "stream",
     "text": [
      "0\n",
      "1\n",
      "2\n",
      "3\n",
      "4\n",
      "5\n",
      "6\n",
      "7\n",
      "8\n",
      "9\n",
      "10\n",
      "11\n",
      "12\n",
      "13\n",
      "14\n",
      "15\n",
      "16\n",
      "17\n",
      "18\n",
      "19\n",
      "20\n",
      "21\n",
      "22\n",
      "23\n",
      "24\n"
     ]
    }
   ],
   "source": [
    "g1_effect = []\n",
    "g2_effect = []\n",
    "g1_size = []\n",
    "g2_size = []\n",
    "\n",
    "for i in range(len(res[1])):\n",
    "    print i\n",
    "    r = res[1][i]\n",
    "    if r is None:\n",
    "        continue\n",
    "    if '11' not in list(r.columns):\n",
    "        break\n",
    "    r_small = r[(r['11'] <= 2) ]\n",
    "    r_large = r[(r['11'] >= 3) & (r['11'] <= 4) ]\n",
    "    \n",
    "    g1_effect = g1_effect + list(r_small['effect_t'] - r_small['effect_c'] ) \n",
    "    g1_size = g1_size + list(r_small['count_t'] + r_small['count_c'] ) \n",
    "    \n",
    "    g2_effect = g2_effect + list( r_large['effect_t'] - r_large['effect_c'] ) \n",
    "    g2_size = g2_size + list( r_large['count_t'] + r_large['count_c'] ) \n",
    "    "
   ]
  },
  {
   "cell_type": "code",
   "execution_count": 42,
   "metadata": {
    "collapsed": true
   },
   "outputs": [],
   "source": [
    "g1_effect = [float(v) for v in g1_effect ]\n",
    "g2_effect = [float(v) for v in g2_effect ]\n",
    "g1_size = [float(v) for v in g1_size ]\n",
    "g2_size = [float(v) for v in g2_size ]"
   ]
  },
  {
   "cell_type": "code",
   "execution_count": 43,
   "metadata": {
    "collapsed": true
   },
   "outputs": [],
   "source": [
    "g1_mean, g1_std = weighted_avg_and_std(np.array(g1_effect), np.array(g1_size) )\n",
    "g2_mean, g2_std = weighted_avg_and_std(np.array(g2_effect), np.array(g2_size) )"
   ]
  },
  {
   "cell_type": "code",
   "execution_count": 44,
   "metadata": {},
   "outputs": [
    {
     "data": {
      "image/png": "[encoded data removed]",
      "text/plain": [
       "<matplotlib.figure.Figure at 0x4a2b9780>"
      ]
     },
     "metadata": {},
     "output_type": "display_data"
    }
   ],
   "source": [
    "plt.rcParams['font.size'] = 15\n",
    "plt.figure(figsize = (5,5))\n",
    "\n",
    "plt.scatter([0,1], [g1_mean, g2_mean])\n",
    "plt.errorbar([0,1], [g1_mean, g2_mean], yerr = [g1_std, g2_std], linestyle = 'None')\n",
    "\n",
    "plt.xticks([0,1], ['0', '1'])\n",
    "\n",
    "plt.xlabel('Prenatal Care Beginning Time Code') \n",
    "plt.ylabel('Estimated Treatment Effect') \n",
    "plt.xlim([-1,2])  \n",
    "plt.ylim([-1,1])\n",
    "\n",
    "plt.tight_layout() \n",
    "plt.savefig('natality_score_prenatal.png', dpi = 150) "
   ]
  },
  {
   "cell_type": "code",
   "execution_count": 3,
   "metadata": {
    "collapsed": true
   },
   "outputs": [],
   "source": [
    "res = pickle.load(open('natality_cigar_score_res', 'rb'))\n",
    "\n",
    "rename_dict = pickle.load(open('natality_rename_dict_score'))"
   ]
  },
  {
   "cell_type": "code",
   "execution_count": 4,
   "metadata": {},
   "outputs": [
    {
     "name": "stdout",
     "output_type": "stream",
     "text": [
      "0\n",
      "1\n",
      "2\n",
      "3\n",
      "4\n",
      "5\n",
      "6\n",
      "7\n",
      "8\n",
      "9\n",
      "10\n",
      "11\n",
      "12\n",
      "13\n",
      "14\n",
      "15\n",
      "16\n",
      "17\n",
      "18\n",
      "19\n",
      "20\n",
      "21\n",
      "22\n",
      "23\n",
      "24\n",
      "25\n",
      "26\n",
      "27\n",
      "28\n",
      "29\n",
      "30\n",
      "31\n",
      "32\n",
      "33\n",
      "34\n",
      "35\n",
      "36\n",
      "37\n",
      "38\n",
      "39\n",
      "40\n",
      "41\n",
      "42\n",
      "43\n",
      "44\n",
      "45\n",
      "46\n",
      "47\n",
      "48\n",
      "49\n",
      "50\n",
      "51\n",
      "52\n",
      "53\n",
      "54\n",
      "55\n",
      "56\n",
      "57\n",
      "58\n",
      "59\n",
      "60\n",
      "61\n",
      "62\n",
      "63\n",
      "64\n",
      "65\n",
      "66\n",
      "67\n",
      "68\n",
      "69\n",
      "70\n",
      "71\n",
      "72\n",
      "73\n",
      "74\n",
      "75\n",
      "76\n",
      "77\n",
      "78\n",
      "79\n",
      "80\n",
      "81\n",
      "82\n",
      "83\n",
      "84\n",
      "85\n",
      "86\n"
     ]
    }
   ],
   "source": [
    "effect = []\n",
    "size = []\n",
    "\n",
    "for i in range(len(res[1])):\n",
    "    print i\n",
    "    r = res[1][i]\n",
    "    if r is None:\n",
    "        continue\n",
    "    \n",
    "    effect = effect + list(r['effect_t'] - r['effect_c'] ) \n",
    "    size = size + list(r['count_t'] + r['count_c'] ) "
   ]
  },
  {
   "cell_type": "code",
   "execution_count": 5,
   "metadata": {
    "collapsed": true
   },
   "outputs": [],
   "source": [
    "effect = [float(v) for v in effect ]\n",
    "size = [float(v) for v in size ]"
   ]
  },
  {
   "cell_type": "code",
   "execution_count": 8,
   "metadata": {
    "collapsed": true
   },
   "outputs": [],
   "source": [
    "avr, std = weighted_avg_and_std(np.array(effect), np.array(size) )"
   ]
  },
  {
   "cell_type": "code",
   "execution_count": 50,
   "metadata": {},
   "outputs": [
    {
     "name": "stdout",
     "output_type": "stream",
     "text": [
      "0\n",
      "1\n",
      "2\n",
      "3\n",
      "4\n",
      "5\n",
      "6\n",
      "7\n",
      "8\n",
      "9\n",
      "10\n",
      "11\n",
      "12\n",
      "13\n",
      "14\n",
      "15\n",
      "16\n",
      "17\n",
      "18\n",
      "19\n",
      "20\n",
      "21\n",
      "22\n",
      "23\n",
      "24\n",
      "25\n",
      "26\n",
      "27\n",
      "28\n",
      "29\n",
      "30\n",
      "31\n",
      "32\n",
      "33\n",
      "34\n",
      "35\n",
      "36\n",
      "37\n",
      "38\n",
      "39\n",
      "40\n",
      "41\n",
      "42\n",
      "43\n",
      "44\n",
      "45\n",
      "46\n",
      "47\n",
      "48\n",
      "49\n"
     ]
    }
   ],
   "source": [
    "g1_effect = []\n",
    "g2_effect = []\n",
    "g3_effect = []\n",
    "g1_size = []\n",
    "g2_size = []\n",
    "g3_size = []\n",
    "\n",
    "for i in range(len(res[1])):\n",
    "    print i\n",
    "    r = res[1][i]\n",
    "    if r is None:\n",
    "        continue\n",
    "    if '11' not in list(r.columns):\n",
    "        break\n",
    "    #r1 = r[(r['6'] == 0) ]\n",
    "    r2 = r[(r['7'] >=7) ]\n",
    "    r3 = r[(r['7'] < 7)]\n",
    "    \n",
    "    #g1_effect = g1_effect + list(r1['effect_t'] - r1['effect_c'] ) \n",
    "    #g1_size = g1_size + list(r1['count_t'] + r1['count_c'] ) \n",
    "    \n",
    "    g2_effect = g2_effect + list( r2['effect_t'] - r2['effect_c'] ) \n",
    "    g2_size = g2_size + list( r2['count_t'] + r2['count_c'] ) \n",
    "    \n",
    "    g3_effect = g3_effect + list( r3['effect_t'] - r3['effect_c'] ) \n",
    "    g3_size = g3_size + list( r3['count_t'] + r3['count_c'] ) \n",
    "    "
   ]
  },
  {
   "cell_type": "code",
   "execution_count": 51,
   "metadata": {
    "collapsed": true
   },
   "outputs": [],
   "source": [
    "g1_effect = [float(v) for v in g1_effect ]\n",
    "g2_effect = [float(v) for v in g2_effect ]\n",
    "g3_effect = [float(v) for v in g3_effect ]\n",
    "g1_size = [float(v) for v in g1_size ]\n",
    "g2_size = [float(v) for v in g2_size ]\n",
    "g3_size = [float(v) for v in g3_size ]\n",
    "\n",
    "#g1_mean, g1_std = weighted_avg_and_std(np.array(g1_effect), np.array(g1_size) )\n",
    "g2_mean, g2_std = weighted_avg_and_std(np.array(g2_effect), np.array(g2_size) )\n",
    "g3_mean, g3_std = weighted_avg_and_std(np.array(g3_effect), np.array(g3_size) )"
   ]
  },
  {
   "cell_type": "code",
   "execution_count": 53,
   "metadata": {},
   "outputs": [
    {
     "data": {
      "image/png": "[encoded data removed]",
      "text/plain": [
       "<matplotlib.figure.Figure at 0x2bddaa90>"
      ]
     },
     "metadata": {},
     "output_type": "display_data"
    }
   ],
   "source": [
    "plt.rcParams['font.size'] = 15\n",
    "plt.figure(figsize = (5,5))\n",
    "\n",
    "plt.scatter([0,1,2], [g3_mean, g2_mean, avr])\n",
    "plt.errorbar([0,1,2], [g3_mean, g2_mean, avr], yerr = [g3_std, g2_std, std], linestyle = 'None')\n",
    "\n",
    "plt.xticks([0,1,2], ['0', '1', 'whole'])\n",
    "\n",
    "plt.xlabel(\"Gestational Hypertension Code\") \n",
    "plt.ylabel('Estimated Treatment Effect') \n",
    "plt.xlim([-1,3])  \n",
    "#plt.ylim([-1,1])\n",
    "\n",
    "plt.tight_layout() \n",
    "#plt.savefig('natality_score_hypertensions_whole.png', dpi = 150) "
   ]
  },
  {
   "cell_type": "code",
   "execution_count": null,
   "metadata": {
    "collapsed": true
   },
   "outputs": [],
   "source": []
  }
 ],
 "metadata": {
  "anaconda-cloud": {},
  "kernelspec": {
   "display_name": "Python 2",
   "language": "python",
   "name": "python2"
  },
  "language_info": {
   "codemirror_mode": {
    "name": "ipython",
    "version": 2
   },
   "file_extension": ".py",
   "mimetype": "text/x-python",
   "name": "python",
   "nbconvert_exporter": "python",
   "pygments_lexer": "ipython2",
   "version": "2.7.13"
  }
 },
 "nbformat": 4,
 "nbformat_minor": 1
}
