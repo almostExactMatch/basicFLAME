{
 "cells": [
  {
   "cell_type": "code",
   "execution_count": 1,
   "metadata": {
    "collapsed": true
   },
   "outputs": [],
   "source": [
    "library('MatchIt')"
   ]
  },
  {
   "cell_type": "code",
   "execution_count": 9,
   "metadata": {
    "collapsed": true
   },
   "outputs": [],
   "source": [
    "library('grf') # the random forest package"
   ]
  },
  {
   "cell_type": "code",
   "execution_count": 42,
   "metadata": {
    "collapsed": true
   },
   "outputs": [],
   "source": [
    "# load the CSV data file\n",
    "\n",
    "mydata <- read.csv('densecore_df.csv')"
   ]
  },
  {
   "cell_type": "code",
   "execution_count": 20,
   "metadata": {
    "collapsed": true
   },
   "outputs": [],
   "source": [
    "X <- sapply(mydata[,1:30], as.numeric)\n",
    "\n",
    "tau.forest = causal_forest(X, mydata$outcome, mydata$treated)   # train the model \n",
    "tau.hat = predict(tau.forest, X[10001:20000,]) # predict on the treated group, which is the second half of the data table.\n",
    "# the above two lines are from the official github."
   ]
  },
  {
   "cell_type": "code",
   "execution_count": 25,
   "metadata": {
    "collapsed": true
   },
   "outputs": [
    {
     "data": {
      "text/html": [
       "<table>\n",
       "<tbody>\n",
       "\t<tr><td>17.128895</td></tr>\n",
       "\t<tr><td>21.124765</td></tr>\n",
       "\t<tr><td>18.735108</td></tr>\n",
       "\t<tr><td>13.195510</td></tr>\n",
       "\t<tr><td>36.579320</td></tr>\n",
       "\t<tr><td>15.636659</td></tr>\n",
       "\t<tr><td>17.766235</td></tr>\n",
       "\t<tr><td>27.129028</td></tr>\n",
       "\t<tr><td> 9.620936</td></tr>\n",
       "\t<tr><td>96.380587</td></tr>\n",
       "\t<tr><td>11.844990</td></tr>\n",
       "\t<tr><td>19.330482</td></tr>\n",
       "\t<tr><td>27.682683</td></tr>\n",
       "\t<tr><td>17.539220</td></tr>\n",
       "\t<tr><td>23.105523</td></tr>\n",
       "\t<tr><td>16.459007</td></tr>\n",
       "\t<tr><td>15.216243</td></tr>\n",
       "\t<tr><td>17.749962</td></tr>\n",
       "\t<tr><td>19.468553</td></tr>\n",
       "\t<tr><td>32.708356</td></tr>\n",
       "\t<tr><td>17.194787</td></tr>\n",
       "\t<tr><td>11.996984</td></tr>\n",
       "\t<tr><td>18.368064</td></tr>\n",
       "\t<tr><td> 9.454571</td></tr>\n",
       "\t<tr><td>12.994478</td></tr>\n",
       "\t<tr><td>17.403489</td></tr>\n",
       "\t<tr><td>26.459014</td></tr>\n",
       "\t<tr><td>18.286296</td></tr>\n",
       "\t<tr><td>19.932605</td></tr>\n",
       "\t<tr><td>31.191362</td></tr>\n",
       "\t<tr><td>...</td></tr>\n",
       "\t<tr><td> 23.96486</td></tr>\n",
       "\t<tr><td> 13.15690</td></tr>\n",
       "\t<tr><td> 25.12962</td></tr>\n",
       "\t<tr><td>104.06470</td></tr>\n",
       "\t<tr><td> 25.10832</td></tr>\n",
       "\t<tr><td> 18.18344</td></tr>\n",
       "\t<tr><td> 16.14594</td></tr>\n",
       "\t<tr><td> 25.28826</td></tr>\n",
       "\t<tr><td> 26.32039</td></tr>\n",
       "\t<tr><td> 19.03251</td></tr>\n",
       "\t<tr><td> 11.46943</td></tr>\n",
       "\t<tr><td> 20.58379</td></tr>\n",
       "\t<tr><td> 49.07781</td></tr>\n",
       "\t<tr><td> 24.93065</td></tr>\n",
       "\t<tr><td> 23.49280</td></tr>\n",
       "\t<tr><td> 34.51556</td></tr>\n",
       "\t<tr><td> 16.06448</td></tr>\n",
       "\t<tr><td> 20.80489</td></tr>\n",
       "\t<tr><td> 26.63310</td></tr>\n",
       "\t<tr><td> 18.09097</td></tr>\n",
       "\t<tr><td> 24.86120</td></tr>\n",
       "\t<tr><td> 31.31386</td></tr>\n",
       "\t<tr><td> 29.34180</td></tr>\n",
       "\t<tr><td> 12.08456</td></tr>\n",
       "\t<tr><td> 21.54551</td></tr>\n",
       "\t<tr><td> 21.52312</td></tr>\n",
       "\t<tr><td> 20.48535</td></tr>\n",
       "\t<tr><td> 17.05317</td></tr>\n",
       "\t<tr><td> 17.82449</td></tr>\n",
       "\t<tr><td> 14.11442</td></tr>\n",
       "</tbody>\n",
       "</table>\n"
      ],
      "text/latex": [
       "\\begin{tabular}{l}\n",
       "\t 17.128895\\\\\n",
       "\t 21.124765\\\\\n",
       "\t 18.735108\\\\\n",
       "\t 13.195510\\\\\n",
       "\t 36.579320\\\\\n",
       "\t 15.636659\\\\\n",
       "\t 17.766235\\\\\n",
       "\t 27.129028\\\\\n",
       "\t  9.620936\\\\\n",
       "\t 96.380587\\\\\n",
       "\t 11.844990\\\\\n",
       "\t 19.330482\\\\\n",
       "\t 27.682683\\\\\n",
       "\t 17.539220\\\\\n",
       "\t 23.105523\\\\\n",
       "\t 16.459007\\\\\n",
       "\t 15.216243\\\\\n",
       "\t 17.749962\\\\\n",
       "\t 19.468553\\\\\n",
       "\t 32.708356\\\\\n",
       "\t 17.194787\\\\\n",
       "\t 11.996984\\\\\n",
       "\t 18.368064\\\\\n",
       "\t  9.454571\\\\\n",
       "\t 12.994478\\\\\n",
       "\t 17.403489\\\\\n",
       "\t 26.459014\\\\\n",
       "\t 18.286296\\\\\n",
       "\t 19.932605\\\\\n",
       "\t 31.191362\\\\\n",
       "\t ...\\\\\n",
       "\t  23.96486\\\\\n",
       "\t  13.15690\\\\\n",
       "\t  25.12962\\\\\n",
       "\t 104.06470\\\\\n",
       "\t  25.10832\\\\\n",
       "\t  18.18344\\\\\n",
       "\t  16.14594\\\\\n",
       "\t  25.28826\\\\\n",
       "\t  26.32039\\\\\n",
       "\t  19.03251\\\\\n",
       "\t  11.46943\\\\\n",
       "\t  20.58379\\\\\n",
       "\t  49.07781\\\\\n",
       "\t  24.93065\\\\\n",
       "\t  23.49280\\\\\n",
       "\t  34.51556\\\\\n",
       "\t  16.06448\\\\\n",
       "\t  20.80489\\\\\n",
       "\t  26.63310\\\\\n",
       "\t  18.09097\\\\\n",
       "\t  24.86120\\\\\n",
       "\t  31.31386\\\\\n",
       "\t  29.34180\\\\\n",
       "\t  12.08456\\\\\n",
       "\t  21.54551\\\\\n",
       "\t  21.52312\\\\\n",
       "\t  20.48535\\\\\n",
       "\t  17.05317\\\\\n",
       "\t  17.82449\\\\\n",
       "\t  14.11442\\\\\n",
       "\\end{tabular}\n"
      ],
      "text/markdown": [
       "\n",
       "| 17.128895 | \n",
       "| 21.124765 | \n",
       "| 18.735108 | \n",
       "| 13.195510 | \n",
       "| 36.579320 | \n",
       "| 15.636659 | \n",
       "| 17.766235 | \n",
       "| 27.129028 | \n",
       "|  9.620936 | \n",
       "| 96.380587 | \n",
       "| 11.844990 | \n",
       "| 19.330482 | \n",
       "| 27.682683 | \n",
       "| 17.539220 | \n",
       "| 23.105523 | \n",
       "| 16.459007 | \n",
       "| 15.216243 | \n",
       "| 17.749962 | \n",
       "| 19.468553 | \n",
       "| 32.708356 | \n",
       "| 17.194787 | \n",
       "| 11.996984 | \n",
       "| 18.368064 | \n",
       "|  9.454571 | \n",
       "| 12.994478 | \n",
       "| 17.403489 | \n",
       "| 26.459014 | \n",
       "| 18.286296 | \n",
       "| 19.932605 | \n",
       "| 31.191362 | \n",
       "| ... | \n",
       "|  23.96486 | \n",
       "|  13.15690 | \n",
       "|  25.12962 | \n",
       "| 104.06470 | \n",
       "|  25.10832 | \n",
       "|  18.18344 | \n",
       "|  16.14594 | \n",
       "|  25.28826 | \n",
       "|  26.32039 | \n",
       "|  19.03251 | \n",
       "|  11.46943 | \n",
       "|  20.58379 | \n",
       "|  49.07781 | \n",
       "|  24.93065 | \n",
       "|  23.49280 | \n",
       "|  34.51556 | \n",
       "|  16.06448 | \n",
       "|  20.80489 | \n",
       "|  26.63310 | \n",
       "|  18.09097 | \n",
       "|  24.86120 | \n",
       "|  31.31386 | \n",
       "|  29.34180 | \n",
       "|  12.08456 | \n",
       "|  21.54551 | \n",
       "|  21.52312 | \n",
       "|  20.48535 | \n",
       "|  17.05317 | \n",
       "|  17.82449 | \n",
       "|  14.11442 | \n",
       "\n",
       "\n"
      ],
      "text/plain": [
       "      [,1]     \n",
       " [1,] 17.128895\n",
       " [2,] 21.124765\n",
       " [3,] 18.735108\n",
       " [4,] 13.195510\n",
       " [5,] 36.579320\n",
       " [6,] 15.636659\n",
       " [7,] 17.766235\n",
       " [8,] 27.129028\n",
       " [9,]  9.620936\n",
       "[10,] 96.380587\n",
       "[11,] 11.844990\n",
       "[12,] 19.330482\n",
       "[13,] 27.682683\n",
       "[14,] 17.539220\n",
       "[15,] 23.105523\n",
       "[16,] 16.459007\n",
       "[17,] 15.216243\n",
       "[18,] 17.749962\n",
       "[19,] 19.468553\n",
       "[20,] 32.708356\n",
       "[21,] 17.194787\n",
       "[22,] 11.996984\n",
       "[23,] 18.368064\n",
       "[24,]  9.454571\n",
       "[25,] 12.994478\n",
       "[26,] 17.403489\n",
       "[27,] 26.459014\n",
       "[28,] 18.286296\n",
       "[29,] 19.932605\n",
       "[30,] 31.191362\n",
       "[31,] ...      \n",
       "[32,]  23.96486\n",
       "[33,]  13.15690\n",
       "[34,]  25.12962\n",
       "[35,] 104.06470\n",
       "[36,]  25.10832\n",
       "[37,]  18.18344\n",
       "[38,]  16.14594\n",
       "[39,]  25.28826\n",
       "[40,]  26.32039\n",
       "[41,]  19.03251\n",
       "[42,]  11.46943\n",
       "[43,]  20.58379\n",
       "[44,]  49.07781\n",
       "[45,]  24.93065\n",
       "[46,]  23.49280\n",
       "[47,]  34.51556\n",
       "[48,]  16.06448\n",
       "[49,]  20.80489\n",
       "[50,]  26.63310\n",
       "[51,]  18.09097\n",
       "[52,]  24.86120\n",
       "[53,]  31.31386\n",
       "[54,]  29.34180\n",
       "[55,]  12.08456\n",
       "[56,]  21.54551\n",
       "[57,]  21.52312\n",
       "[58,]  20.48535\n",
       "[59,]  17.05317\n",
       "[60,]  17.82449\n",
       "[61,]  14.11442"
      ]
     },
     "metadata": {},
     "output_type": "display_data"
    }
   ],
   "source": [
    "tau.hat$predict # this is the predicted result"
   ]
  },
  {
   "cell_type": "code",
   "execution_count": 29,
   "metadata": {
    "collapsed": true
   },
   "outputs": [],
   "source": [
    "res = X[10001:20000,] # this is the second half of the data table, which is the treated group"
   ]
  },
  {
   "cell_type": "code",
   "execution_count": 31,
   "metadata": {},
   "outputs": [
    {
     "name": "stderr",
     "output_type": "stream",
     "text": [
      "Warning message in res$pred = tau.hat$predict:\n",
      "\"Coercing LHS to a list\""
     ]
    }
   ],
   "source": [
    "res$pred = tau.hat$predict # align the predictions with the labels"
   ]
  },
  {
   "cell_type": "code",
   "execution_count": 43,
   "metadata": {},
   "outputs": [
    {
     "name": "stderr",
     "output_type": "stream",
     "text": [
      "Warning message:\n",
      "\"glm.fit: algorithm did not converge\"Warning message:\n",
      "\"glm.fit: fitted probabilities numerically 0 or 1 occurred\""
     ]
    }
   ],
   "source": [
    "# genmatch, 1-PSNNM, Mahalanobis all come from here.\n",
    "# with different values for 'method' parameter of the 'matchit' function, \n",
    "# this 'matchit' function performs different matching.\n",
    "\n",
    "# method = 'genetic' -- genmatch (distance = logit in this case)\n",
    "# method = 'logistic' -- 1-PSNNM (distance = logit in this case)\n",
    "# distance = 'Mahalanobis' -- Mahalanobis (method = nearest in this case)\n",
    "\n",
    "\n",
    "r <- matchit(treated ~ X0+X1+X2+X3+X4+X5+X6+X7+X8+X9+X10+X11+X12+X13+X14+X15+X16+X17+X18+X19+X20+X21+X22+X23+X24+X25+X26+X27+X28+X29,\n",
    "             methods = 'genetic', data = mydata)\n",
    "\n",
    "# following line: after matching, compute the causal effect by subtraction. \n",
    "hh <- mydata[as.numeric(names(r$match.matrix[,])),'outcome']- mydata[as.numeric(r$match.matrix[,]),'outcome']\n"
   ]
  },
  {
   "cell_type": "code",
   "execution_count": 44,
   "metadata": {
    "collapsed": true
   },
   "outputs": [],
   "source": [
    "mydata[10001:20000,'pred'] = hh"
   ]
  },
  {
   "cell_type": "code",
   "execution_count": null,
   "metadata": {
    "collapsed": true
   },
   "outputs": [],
   "source": []
  }
 ],
 "metadata": {
  "kernelspec": {
   "display_name": "R",
   "language": "R",
   "name": "ir"
  },
  "language_info": {
   "codemirror_mode": "r",
   "file_extension": ".r",
   "mimetype": "text/x-r-source",
   "name": "R",
   "pygments_lexer": "r",
   "version": "3.4.2"
  }
 },
 "nbformat": 4,
 "nbformat_minor": 2
}
